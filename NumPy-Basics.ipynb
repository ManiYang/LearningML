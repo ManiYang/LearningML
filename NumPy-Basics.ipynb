{
 "cells": [
  {
   "cell_type": "markdown",
   "metadata": {
    "toc": true
   },
   "source": [
    "<h1>NumPy Basics<span class=\"tocSkip\"></span></h1>\n",
    "<div class=\"toc\"><ul class=\"toc-item\"><li><span><a href=\"#NumPy-array----ndarray\" data-toc-modified-id=\"NumPy-array----ndarray-1\"><span class=\"toc-item-num\">1&nbsp;&nbsp;</span>NumPy array -- ndarray</a></span><ul class=\"toc-item\"><li><span><a href=\"#creating-arrays\" data-toc-modified-id=\"creating-arrays-1.1\"><span class=\"toc-item-num\">1.1&nbsp;&nbsp;</span>creating arrays</a></span></li><li><span><a href=\"#NumPy-data-types\" data-toc-modified-id=\"NumPy-data-types-1.2\"><span class=\"toc-item-num\">1.2&nbsp;&nbsp;</span>NumPy data types</a></span></li><li><span><a href=\"#type-casting\" data-toc-modified-id=\"type-casting-1.3\"><span class=\"toc-item-num\">1.3&nbsp;&nbsp;</span>type-casting</a></span></li></ul></li><li><span><a href=\"#Indexing-&amp;-Slicing\" data-toc-modified-id=\"Indexing-&amp;-Slicing-2\"><span class=\"toc-item-num\">2&nbsp;&nbsp;</span>Indexing &amp; Slicing</a></span><ul class=\"toc-item\"><li><span><a href=\"#basic-indexing-&amp;-slicing\" data-toc-modified-id=\"basic-indexing-&amp;-slicing-2.1\"><span class=\"toc-item-num\">2.1&nbsp;&nbsp;</span>basic indexing &amp; slicing</a></span></li><li><span><a href=\"#boolean-indexing\" data-toc-modified-id=\"boolean-indexing-2.2\"><span class=\"toc-item-num\">2.2&nbsp;&nbsp;</span>boolean indexing</a></span></li><li><span><a href=\"#fancy-indexing\" data-toc-modified-id=\"fancy-indexing-2.3\"><span class=\"toc-item-num\">2.3&nbsp;&nbsp;</span>fancy indexing</a></span></li><li><span><a href=\"#transpose-and-axes-permutation\" data-toc-modified-id=\"transpose-and-axes-permutation-2.4\"><span class=\"toc-item-num\">2.4&nbsp;&nbsp;</span>transpose and axes permutation</a></span><ul class=\"toc-item\"><li><span><a href=\"#matrix-transpose\" data-toc-modified-id=\"matrix-transpose-2.4.1\"><span class=\"toc-item-num\">2.4.1&nbsp;&nbsp;</span>matrix transpose</a></span></li><li><span><a href=\"#axes-permutation\" data-toc-modified-id=\"axes-permutation-2.4.2\"><span class=\"toc-item-num\">2.4.2&nbsp;&nbsp;</span>axes permutation</a></span></li></ul></li></ul></li><li><span><a href=\"#Arithmetics-&amp;-Element-Wise-Functions-(Universal-Functions)\" data-toc-modified-id=\"Arithmetics-&amp;-Element-Wise-Functions-(Universal-Functions)-3\"><span class=\"toc-item-num\">3&nbsp;&nbsp;</span>Arithmetics &amp; Element-Wise Functions (Universal Functions)</a></span><ul class=\"toc-item\"><li><span><a href=\"#list-of-ufuncs\" data-toc-modified-id=\"list-of-ufuncs-3.1\"><span class=\"toc-item-num\">3.1&nbsp;&nbsp;</span>list of ufuncs</a></span></li></ul></li><li><span><a href=\"#Array-Oriented-Programming\" data-toc-modified-id=\"Array-Oriented-Programming-4\"><span class=\"toc-item-num\">4&nbsp;&nbsp;</span>Array-Oriented Programming</a></span><ul class=\"toc-item\"><li><span><a href=\"#where()\" data-toc-modified-id=\"where()-4.1\"><span class=\"toc-item-num\">4.1&nbsp;&nbsp;</span>where()</a></span></li><li><span><a href=\"#statistical-methods\" data-toc-modified-id=\"statistical-methods-4.2\"><span class=\"toc-item-num\">4.2&nbsp;&nbsp;</span>statistical methods</a></span></li><li><span><a href=\"#sorting\" data-toc-modified-id=\"sorting-4.3\"><span class=\"toc-item-num\">4.3&nbsp;&nbsp;</span>sorting</a></span></li><li><span><a href=\"#set-operations-on-1-dim.-arrays\" data-toc-modified-id=\"set-operations-on-1-dim.-arrays-4.4\"><span class=\"toc-item-num\">4.4&nbsp;&nbsp;</span>set operations on 1-dim. arrays</a></span></li></ul></li><li><span><a href=\"#Linear-Algebra\" data-toc-modified-id=\"Linear-Algebra-5\"><span class=\"toc-item-num\">5&nbsp;&nbsp;</span>Linear Algebra</a></span></li><li><span><a href=\"#Pseudorandom-Number-Generation\" data-toc-modified-id=\"Pseudorandom-Number-Generation-6\"><span class=\"toc-item-num\">6&nbsp;&nbsp;</span>Pseudorandom Number Generation</a></span></li><li><span><a href=\"#Broadcasting\" data-toc-modified-id=\"Broadcasting-7\"><span class=\"toc-item-num\">7&nbsp;&nbsp;</span>Broadcasting</a></span></li></ul></div>"
   ]
  },
  {
   "cell_type": "markdown",
   "metadata": {},
   "source": [
    "last update: 2018/06/15"
   ]
  },
  {
   "cell_type": "code",
   "execution_count": 4,
   "metadata": {
    "collapsed": true
   },
   "outputs": [],
   "source": [
    "import numpy as np"
   ]
  },
  {
   "cell_type": "markdown",
   "metadata": {
    "collapsed": true
   },
   "source": [
    "# NumPy array -- ndarray\n",
    "An `ndarray` is a **multidimensional** container for **homogeneous** (i.e., of the same type) data."
   ]
  },
  {
   "cell_type": "code",
   "execution_count": 12,
   "metadata": {},
   "outputs": [
    {
     "data": {
      "text/plain": [
       "numpy.ndarray"
      ]
     },
     "execution_count": 12,
     "metadata": {},
     "output_type": "execute_result"
    }
   ],
   "source": [
    "a = np.array([[0,1,2], [3,4,5]])\n",
    "type(a)"
   ]
  },
  {
   "cell_type": "code",
   "execution_count": 47,
   "metadata": {},
   "outputs": [
    {
     "name": "stdout",
     "output_type": "stream",
     "text": [
      "dtype: int64\n",
      "itemsize: 8\n"
     ]
    }
   ],
   "source": [
    "print('dtype:', a.dtype)  # element data-type\n",
    "print('itemsize:', a.itemsize)  # bytes per element"
   ]
  },
  {
   "cell_type": "code",
   "execution_count": 46,
   "metadata": {},
   "outputs": [
    {
     "name": "stdout",
     "output_type": "stream",
     "text": [
      "ndim: 2\n",
      "shape: (2, 3)\n",
      "size: 6\n"
     ]
    }
   ],
   "source": [
    "print('ndim:', a.ndim)   # number of dimensions\n",
    "print('shape:', a.shape)  # sizes of the dimensions\n",
    "print('size:', a.size)   # total number of elements"
   ]
  },
  {
   "cell_type": "markdown",
   "metadata": {},
   "source": [
    "## creating arrays"
   ]
  },
  {
   "cell_type": "code",
   "execution_count": null,
   "metadata": {
    "collapsed": true
   },
   "outputs": [],
   "source": [
    "# from seqeunce-like object\n",
    "arr = np.array([[0,1,2], [3,4,5]], dtype=np.float64)\n",
    "arr = np.array(((0,1),(2,3),(4,5)))\n",
    "\n",
    "# zeros, ones, empty, full\n",
    "np.zeros((2, 3))  # a 2x3 array, all elements initialized to 0\n",
    "np.ones((2, 3))   # a 2x3 array, all elements initialized to 1\n",
    "np.empty((2, 3))  # a 2x3 array, elements not initialized\n",
    "np.full((2,3), np.pi)\n",
    "\n",
    "arr = np.array((0,1,2))\n",
    "np.zeros_like(arr) # returned array will be of the same *shape* and *dtype* as `arr`\n",
    "np.ones_like(arr) \n",
    "np.empty_like(arr)\n",
    "np.full_like(arr, np.pi)  # [3,3,3]\n",
    "\n",
    "# arange\n",
    "np.arange(4)  # [0,1,2,3]\n",
    "np.arange(0, 10, 2)  # start, stop (exclusive), step\n",
    "                     # [0, 2, 4, 6, 8]\n",
    "\n",
    "np.arange(0.0, 0.4, 0.1)  # float arguments: use with care\n",
    "                          # [0.0, 0.1, 0.2, 0.3, 0.4]\n",
    "np.arange(0.0, 0.3001, 0.1)  # [0.0, 0.1, 0.2, 0.3]\n",
    "\n",
    "# identity matrix\n",
    "np.identity(3)\n",
    "np.eye(3)"
   ]
  },
  {
   "cell_type": "markdown",
   "metadata": {},
   "source": [
    "## NumPy data types\n",
    "* `int8, int16, int32, int64`\n",
    "* `uint8, ..., uint64`\n",
    "* `float16, ..., float128`\n",
    "* `complex64, ..., complex256`\n",
    "* `bool`, `object`\n",
    "* `string_` (fixed-length ASCII string)\n",
    "* `unicode_` (fixed-length Unicode string)"
   ]
  },
  {
   "cell_type": "markdown",
   "metadata": {},
   "source": [
    "## type-casting"
   ]
  },
  {
   "cell_type": "code",
   "execution_count": null,
   "metadata": {
    "code_folding": [],
    "collapsed": true
   },
   "outputs": [],
   "source": [
    "# using `astype()`\n",
    "# `astype()` always creates a new array.\n",
    "\n",
    "a = np.array([0,1,2,3])\n",
    "a2 = a.astype(np.float64)  # [0., 1., 2., 3.]\n",
    "\n",
    "a = np.array([0.5, 1.5, 2.5, 3.5])\n",
    "a2 = a.astype(np.int32)  # [0, 1, 2, 3]\n",
    "\n",
    "a = np.array([0.5, 1.5, 2.5])\n",
    "arr_string = a.astype(np.string_)  # [b'0.5', b'1.5', b'2.5']\n",
    "arr_string.astype(np.float64)  # [0.5, 1.5, 2.5]"
   ]
  },
  {
   "cell_type": "markdown",
   "metadata": {},
   "source": [
    "# Indexing & Slicing\n",
    "## basic indexing & slicing"
   ]
  },
  {
   "cell_type": "code",
   "execution_count": 20,
   "metadata": {
    "collapsed": true
   },
   "outputs": [],
   "source": [
    "a = np.array([1,2,3,4])\n",
    "\n",
    "# create a slice, which is a view, of `a`\n",
    "b = a[0:2]\n",
    "b[0] = 100  # now `a` becomes [100,2,3,4]\n",
    "\n",
    "a[0:2] = 9  # now `a` becomes [9,9,3,4]\n",
    "b[:] = 9  # same effect\n",
    "\n",
    "# beware of the type of the array\n",
    "a[0] = 10.23  # a[0] will be 10, as the array is of int type"
   ]
  },
  {
   "cell_type": "markdown",
   "metadata": {},
   "source": [
    "* *Note.* Array slices are **views**, unlike the slices of a Python list."
   ]
  },
  {
   "cell_type": "code",
   "execution_count": null,
   "metadata": {
    "collapsed": true
   },
   "outputs": [],
   "source": [
    "a = np.array([[1,2,3], [4,5,6], [7,8,9]])\n",
    "\n",
    "a[0,2]  # 3, same as a[(0,2)], a[0][2]\n",
    "b = a[0]  # [1,2,3], a view\n",
    "\n",
    "a[:2]  # [[1, 2, 3], [4, 5, 6]]\n",
    "a[:2, 1:]  # [[2, 3], [5, 6]]\n",
    "\n",
    "a[:2, 1]  # [2,5]\n",
    "a[:2, 1:2]  # [[2],[5]]"
   ]
  },
  {
   "cell_type": "markdown",
   "metadata": {},
   "source": [
    "## boolean indexing"
   ]
  },
  {
   "cell_type": "code",
   "execution_count": null,
   "metadata": {
    "collapsed": true
   },
   "outputs": [],
   "source": [
    "a = np.array([0,1,2,3])\n",
    "b = np.array(['A','B','C','D'], dtype=np.string_)\n",
    "\n",
    "a[[True,False,False,True]]  # [0,3], a shallow copy (not a view)\n",
    "b[a==2]  # [b'C'], a shallow copy (not a view)\n",
    "b[a==2] = 'Z'  # now `b` becomes [b'A', b'B', b'Z', b'D']\n",
    "\n",
    "(a==2) | (a==3)  # [False, False, True, True]\n",
    "#(a==2) or (a==3)  # won't work"
   ]
  },
  {
   "cell_type": "code",
   "execution_count": null,
   "metadata": {
    "collapsed": true
   },
   "outputs": [],
   "source": [
    "a = np.array([[0,1,2],[3,4,5],[6,7,8]])\n",
    "\n",
    "a[np.array([False,True,False])]  # [[3, 4, 5]]\n",
    "a[np.array([False,True,True]), 1:]  # [[4, 5], [7, 8]]\n",
    "\n",
    "a[a%2==0]  # [0,2,4,6,8]  (a 1D array)"
   ]
  },
  {
   "cell_type": "markdown",
   "metadata": {},
   "source": [
    "## fancy indexing"
   ]
  },
  {
   "cell_type": "code",
   "execution_count": null,
   "metadata": {
    "collapsed": true
   },
   "outputs": [],
   "source": [
    "a = np.array([0,10,20,30,40])\n",
    "a[[1,0,-1]]  # [10,0,40], a shallow copy (not a view)"
   ]
  },
  {
   "cell_type": "code",
   "execution_count": null,
   "metadata": {
    "collapsed": true
   },
   "outputs": [],
   "source": [
    "a = np.array([[0,1,2],[3,4,5],[6,7,8]])\n",
    "a[[0,2]]  # [[0, 1, 2], [6, 7, 8]]\n",
    "a[1, [0,2]]  # [3, 5]\n",
    "a[1:2, [0,2]]  # [[3, 5]], a shallow copy"
   ]
  },
  {
   "cell_type": "markdown",
   "metadata": {
    "collapsed": true
   },
   "source": [
    "If all dimensions of an array are indexed using fancy indexing, the result is always 1-dimensional:\n",
    "\\begin{equation}\n",
    "  A[\\,[i_1,i_2,\\ldots,i_n], [j_1,j_2,\\ldots,j_n], [k_1,k_2,\\ldots,k_n]\\,]\n",
    "  = [ A_{i_1 j_1 k_1}, A_{i_2 j_2 k_2}, \\ldots, A_{i_n j_n k_n} ]\n",
    "\\end{equation}\n",
    "where $A$ is assumed 3-dimensional."
   ]
  },
  {
   "cell_type": "code",
   "execution_count": null,
   "metadata": {
    "collapsed": true
   },
   "outputs": [],
   "source": [
    "a = np.array([[0,1,2],[3,4,5],[6,7,8]])\n",
    "a[[0,2], [1,1]]  # [1, 7] (which is [a01, a21])"
   ]
  },
  {
   "cell_type": "markdown",
   "metadata": {},
   "source": [
    "## transpose and axes permutation\n",
    "### matrix transpose"
   ]
  },
  {
   "cell_type": "code",
   "execution_count": 9,
   "metadata": {
    "scrolled": true
   },
   "outputs": [
    {
     "data": {
      "text/plain": [
       "array([[ 0, 10],\n",
       "       [ 1, 11],\n",
       "       [ 2, 12]])"
      ]
     },
     "execution_count": 9,
     "metadata": {},
     "output_type": "execute_result"
    }
   ],
   "source": [
    "a = np.array([[0,1,2],[10,11,12]])\n",
    "\n",
    "a.transpose()  # returns transposed matrix, which is a view of the original matrix\n",
    "a.T  # same"
   ]
  },
  {
   "cell_type": "markdown",
   "metadata": {},
   "source": [
    "### axes permutation\n",
    "Dimension permutation of $M$-dimensional array:\n",
    "\n",
    "If `B = A.transpose((`$p_0,p_1,\\ldots,p_{M-1}$ `)),` where $(p_0,p_1,\\ldots,p_{M-1})$ must be a permutation of $(0,1,\\ldots,M-1)$,\n",
    "then\n",
    "\\begin{equation}\n",
    "  B[i_{p_0}, i_{p_1}, \\ldots, i_{p_{M-1}}] = A[i_0, i_1, \\ldots, i_{M-1}] .\n",
    "\\end{equation}"
   ]
  },
  {
   "cell_type": "code",
   "execution_count": 23,
   "metadata": {},
   "outputs": [
    {
     "name": "stdout",
     "output_type": "stream",
     "text": [
      "[[['000' '001' '002']\n",
      "  ['010' '011' '012']]\n",
      "\n",
      " [['100' '101' '102']\n",
      "  ['110' '111' '112']]\n",
      "\n",
      " [['200' '201' '202']\n",
      "  ['210' '211' '212']]]\n"
     ]
    }
   ],
   "source": [
    "list1 = ['{:03d}'.format(i*100+j*10+k)  for i in range(3)  for j in range(2)  for k in range(3)]\n",
    "a = np.array(list1).reshape(3,2,3)\n",
    "print(a)"
   ]
  },
  {
   "cell_type": "code",
   "execution_count": 28,
   "metadata": {},
   "outputs": [
    {
     "name": "stdout",
     "output_type": "stream",
     "text": [
      "[[['000' '100' '200']\n",
      "  ['001' '101' '201']\n",
      "  ['002' '102' '202']]\n",
      "\n",
      " [['010' '110' '210']\n",
      "  ['011' '111' '211']\n",
      "  ['012' '112' '212']]]\n"
     ]
    }
   ],
   "source": [
    "b = a.transpose((1,2,0))  # b_jki = a_ijk   # returned is a view\n",
    "print(b)"
   ]
  },
  {
   "cell_type": "code",
   "execution_count": null,
   "metadata": {
    "collapsed": true
   },
   "outputs": [],
   "source": [
    "# swapaxes() takes 2 parameters:\n",
    "c = a.swapaxes(0,1)  # c_ijk = a_jik   # returned is a view"
   ]
  },
  {
   "cell_type": "markdown",
   "metadata": {},
   "source": [
    "# Arithmetics & Element-Wise Functions (Universal Functions)"
   ]
  },
  {
   "cell_type": "code",
   "execution_count": null,
   "metadata": {
    "collapsed": true
   },
   "outputs": [],
   "source": [
    "# element-wise operations\n",
    "a1 = np.array([[ 1, 2], [ 3, 4]])\n",
    "a2 = np.array([[10,20], [30,40]])\n",
    "\n",
    "a1 + a2\n",
    "a1 * 2\n",
    "a2 ** 0.5\n",
    "\n",
    "a1 > 2   # a boolean array\n",
    "(a2-a1)%2 == 0  # a boolean array"
   ]
  },
  {
   "cell_type": "code",
   "execution_count": null,
   "metadata": {
    "collapsed": true
   },
   "outputs": [],
   "source": [
    "# unary ufuncs\n",
    "a = np.arange(8)\n",
    "np.sqrt(a)\n",
    "np.exp(a)\n",
    "\n",
    "# binary ufuncs\n",
    "x = np.random.rand(8)\n",
    "y = np.random.rand(8)\n",
    "np.maximum(x,y)"
   ]
  },
  {
   "cell_type": "code",
   "execution_count": null,
   "metadata": {
    "collapsed": true
   },
   "outputs": [],
   "source": [
    "a = np.random.rand(5) * 30\n",
    "print(a)\n",
    "\n",
    "frac, integral = np.modf(a)  # returns 2 arrays (fractional parts, integral parts)\n",
    "print(frac)\n",
    "print(integral)"
   ]
  },
  {
   "cell_type": "code",
   "execution_count": 5,
   "metadata": {},
   "outputs": [
    {
     "data": {
      "text/plain": [
       "array([0.        , 1.        , 1.41421356, 1.73205081, 2.        ,\n",
       "       2.23606798, 2.44948974, 2.64575131, 2.82842712])"
      ]
     },
     "execution_count": 5,
     "metadata": {},
     "output_type": "execute_result"
    }
   ],
   "source": [
    "# in-place operation\n",
    "arr = np.arange(0.0, 8.01)\n",
    "np.sqrt(arr, out=arr)\n",
    "arr"
   ]
  },
  {
   "cell_type": "markdown",
   "metadata": {},
   "source": [
    "## list of ufuncs\n",
    "* unary\n",
    "  * `abs, fabs`\n",
    "  * `sqrt, square, exp`\n",
    "  * `log, log10, glo2, log1p` (computes $\\log(1+x)$)\n",
    "  * `sign, ceil, floor,` `rint` (round, rounding half to even)\n",
    "  * `modf` (get fractional and integral parts)\n",
    "  * `isnan, isfinite, isinf`\n",
    "  * `cos, cosh, sin, sinh, tan, tanh`\n",
    "  * `arccos, arccosh,` etc.\n",
    "  * `logical_not`\n",
    "* binary\n",
    "  * `add, subtract, multiply, divide, floor_divide, power`\n",
    "  * `maximum, minimum, fmax, fmin` (fmax, fmin ignores NaN)\n",
    "  * `mod`\n",
    "  * `copysign` (copy sign of 2nd arg. to 1st arg.)\n",
    "  * `greater, greater_equal, less, less_equal, equal, not_equal`\n",
    "  * `logical_and, logical_or. logical_xor`"
   ]
  },
  {
   "cell_type": "markdown",
   "metadata": {},
   "source": [
    "# Array-Oriented Programming"
   ]
  },
  {
   "cell_type": "code",
   "execution_count": 53,
   "metadata": {
    "collapsed": true
   },
   "outputs": [],
   "source": [
    "# example -- compute z = (x^2 + y^2)^0.5 at mesh points\n",
    "pnts = np.arange(-5, 5.0001, 0.1)  # 101 equally spaced points\n",
    "(xs, ys) = np.meshgrid(pnts, pnts)  # create a mesh grid\n",
    "\n",
    "zs = np.sqrt(xs**2 + ys**2)"
   ]
  },
  {
   "cell_type": "markdown",
   "metadata": {},
   "source": [
    "## where()\n",
    "`where(<condition>, x, y)` is the vectorized version of the ternary expression `x if <condition> else y`"
   ]
  },
  {
   "cell_type": "code",
   "execution_count": null,
   "metadata": {
    "collapsed": true
   },
   "outputs": [],
   "source": [
    "xarr = np.array([ 1,  2,  3,  4])\n",
    "yarr = np.array([11, 12, 13, 14])\n",
    "cond = np.array([True, False, False, True])\n",
    "\n",
    "a = np.where(cond, xarr, yarr)  # [ 1, 12, 13,  4]"
   ]
  },
  {
   "cell_type": "code",
   "execution_count": null,
   "metadata": {
    "collapsed": true
   },
   "outputs": [],
   "source": [
    "# example\n",
    "a = (np.random.rand(25) * 20).reshape(5,5)\n",
    "\n",
    "b = np.where(a>10, 10.0, a)  # `b` will be `a` limited to <= 10"
   ]
  },
  {
   "cell_type": "markdown",
   "metadata": {},
   "source": [
    "## statistical methods\n",
    "* aggregation\n",
    "    * `sum, mean, std, var`\n",
    "    * `min, max`\n",
    "    * `argmin, argmax`"
   ]
  },
  {
   "cell_type": "code",
   "execution_count": null,
   "metadata": {
    "collapsed": true
   },
   "outputs": [],
   "source": [
    "# example\n",
    "arr = np.random.randn(3, 3, 3)\n",
    "\n",
    "arr.sum()\n",
    "np.sum(arr)\n",
    "arr.sum(axis=0)  # along axis 0\n",
    "np.sum(arr, axis=2)   # along axis 2"
   ]
  },
  {
   "cell_type": "markdown",
   "metadata": {},
   "source": [
    "* cumulation: the intermediate results of aggregation\n",
    "    * `cumsum` (cumulative sum, starting from 0)\n",
    "    * `cumprod` (cumulative product, starting from 1)"
   ]
  },
  {
   "cell_type": "code",
   "execution_count": 89,
   "metadata": {},
   "outputs": [
    {
     "name": "stdout",
     "output_type": "stream",
     "text": [
      "[[ 0  1  2  3]\n",
      " [ 4  5  6  7]\n",
      " [ 8  9 10 11]]\n"
     ]
    },
    {
     "data": {
      "text/plain": [
       "array([[ 0,  1,  2,  3],\n",
       "       [ 4,  6,  8, 10],\n",
       "       [12, 15, 18, 21]], dtype=int32)"
      ]
     },
     "execution_count": 89,
     "metadata": {},
     "output_type": "execute_result"
    }
   ],
   "source": [
    "# example\n",
    "arr = np.arange(12).reshape(3,4)\n",
    "print(arr)\n",
    "arr.cumsum(axis=0)"
   ]
  },
  {
   "cell_type": "markdown",
   "metadata": {},
   "source": [
    "* In statistical methods, boolean values are coerced to 1 or 0."
   ]
  },
  {
   "cell_type": "code",
   "execution_count": 94,
   "metadata": {},
   "outputs": [
    {
     "data": {
      "text/plain": [
       "57"
      ]
     },
     "execution_count": 94,
     "metadata": {},
     "output_type": "execute_result"
    }
   ],
   "source": [
    "# example\n",
    "a = np.random.randn(100)\n",
    "(a > 0).sum()  # number of positive values"
   ]
  },
  {
   "cell_type": "markdown",
   "metadata": {},
   "source": [
    "* `any` (gives whether a boolean array has a True element)\n",
    "* `all` (gives whether a boolean array consists of only True elements)"
   ]
  },
  {
   "cell_type": "code",
   "execution_count": null,
   "metadata": {
    "collapsed": true
   },
   "outputs": [],
   "source": [
    "a = np.array([False, False, True])\n",
    "a.any()  # True\n",
    "a.all()  # False\n",
    "\n",
    "a = np.array([0, 0, 1])\n",
    "a.any()  # True  (zero --> False, nonzero --> True) \n",
    "a.all()  # False (zero --> False, nonzero --> True)"
   ]
  },
  {
   "cell_type": "markdown",
   "metadata": {
    "collapsed": true
   },
   "source": [
    "## sorting"
   ]
  },
  {
   "cell_type": "code",
   "execution_count": 147,
   "metadata": {
    "collapsed": true
   },
   "outputs": [],
   "source": [
    "# in-place sorting\n",
    "a = np.random.rand(5)\n",
    "a.sort()  # sort `a` in-place"
   ]
  },
  {
   "cell_type": "code",
   "execution_count": 151,
   "metadata": {},
   "outputs": [
    {
     "data": {
      "text/plain": [
       "array([[0.21885836, 0.48705529, 0.60874074],\n",
       "       [0.21434684, 0.41060988, 0.99562157],\n",
       "       [0.73514598, 0.77576899, 0.94256389]])"
      ]
     },
     "execution_count": 151,
     "metadata": {},
     "output_type": "execute_result"
    }
   ],
   "source": [
    "a = np.random.rand(9).reshape(3,3)\n",
    "a.sort(axis=1)  # in-place sorting along axis 1\n",
    "a"
   ]
  },
  {
   "cell_type": "code",
   "execution_count": 109,
   "metadata": {
    "collapsed": true
   },
   "outputs": [],
   "source": [
    "# sorted copy\n",
    "a = np.random.rand(5)\n",
    "b = np.sort(a)  # return a sorted copy"
   ]
  },
  {
   "cell_type": "code",
   "execution_count": null,
   "metadata": {
    "collapsed": true
   },
   "outputs": [],
   "source": [
    "# example -- 5% quantile of array\n",
    "arr = np.arange(100)\n",
    "np.sort(arr)[ int(arr.shape[0] * 0.05) ]  # 5"
   ]
  },
  {
   "cell_type": "markdown",
   "metadata": {},
   "source": [
    "## set operations on 1-dim. arrays"
   ]
  },
  {
   "cell_type": "code",
   "execution_count": null,
   "metadata": {
    "collapsed": true
   },
   "outputs": [],
   "source": [
    "# unique(x) -- returns sorted unique values in `x`\n",
    "a = np.array([4,3,5,7,4,5,3])\n",
    "np.unique(a)  # [3, 4, 5, 7]"
   ]
  },
  {
   "cell_type": "code",
   "execution_count": null,
   "metadata": {
    "collapsed": true
   },
   "outputs": [],
   "source": [
    "# in1d(x, y) -- returns a boolean array indicating whether each x[i] is contained in y\n",
    "a = np.array([4,3,5,7,4,5,3])\n",
    "np.in1d(a, np.arange(5))  # [True, True, False, False, True, False, True]"
   ]
  },
  {
   "cell_type": "code",
   "execution_count": null,
   "metadata": {
    "collapsed": true
   },
   "outputs": [],
   "source": [
    "# intersect1d(x, y) -- returns sorted, common unique elements of x and y\n",
    "np.intersect1d([1,4,3,2,3], [6,2,3])  # [2, 3]\n",
    "\n",
    "# union1d(x, y)  -- returns sorted union of x and y\n",
    "np.union1d([3,2,3], [6,2,3])  # [2, 3, 6]\n",
    "\n",
    "# setdiff1d(x, y) -- returned sorted array consists of unique elements in x that are not in y\n",
    "np.setdiff1d([3,2,6,6], [2,3])  # [6]\n",
    "\n",
    "# setxor1d(x, y) -- symmetric difference; elements that are in either x or y, but not both\n",
    "np.setdiff1d([3,2,6,6], [1,3,1])  # [2, 6]"
   ]
  },
  {
   "cell_type": "markdown",
   "metadata": {},
   "source": [
    "# Linear Algebra"
   ]
  },
  {
   "cell_type": "code",
   "execution_count": 9,
   "metadata": {},
   "outputs": [
    {
     "data": {
      "text/plain": [
       "array([[ 28,  64],\n",
       "       [ 67, 181]])"
      ]
     },
     "execution_count": 9,
     "metadata": {},
     "output_type": "execute_result"
    }
   ],
   "source": [
    "# matrix multiplication\n",
    "x = np.array([[1,2,3], [4,5,6]])\n",
    "y = np.array([[6,23], [-1,7], [8,9]])\n",
    "\n",
    "x.dot(y)\n",
    "np.dot(x, y)  # same\n",
    "x @ y  # same (since Python 3.5, NumPy 1.10)"
   ]
  },
  {
   "cell_type": "code",
   "execution_count": 11,
   "metadata": {},
   "outputs": [
    {
     "data": {
      "text/plain": [
       "array([[1.00000000e+00, 0.00000000e+00, 2.22044605e-16],\n",
       "       [0.00000000e+00, 1.00000000e+00, 2.22044605e-16],\n",
       "       [0.00000000e+00, 0.00000000e+00, 1.00000000e+00]])"
      ]
     },
     "execution_count": 11,
     "metadata": {},
     "output_type": "execute_result"
    }
   ],
   "source": [
    "# inverse matrix\n",
    "m = np.array([[1.0,2,3], [4,5,0], [0,0,9]])\n",
    "\n",
    "m_inv = np.linalg.inv(m)  # compute inverse matrix\n",
    "np.dot(m_inv, m)"
   ]
  },
  {
   "cell_type": "markdown",
   "metadata": {},
   "source": [
    "Functions of `numpy.linalg` :\n",
    "* `diag` (Return diagonal/off-diagonal elements of a square matrix as a 1D array, or convert a 1D array into a square matrix with zeros on the off-diagonal.) \n",
    "* `dot`  (matrix multiplication)\n",
    "* `trace`\n",
    "* `det`  (determinant)\n",
    "* `inv`  (inverse of square matrix)\n",
    "* `qr`  (QR decomposition)\n",
    "* `svd`  (singluar value decomposition (SVD))\n",
    "* `solve`  (Solve Ax = b for x, where A is a square matrix.)\n",
    "* `lstsq`  (Compute the least-squares solution to Ax = b.)"
   ]
  },
  {
   "cell_type": "markdown",
   "metadata": {},
   "source": [
    "# Pseudorandom Number Generation"
   ]
  },
  {
   "cell_type": "code",
   "execution_count": 14,
   "metadata": {},
   "outputs": [
    {
     "data": {
      "text/plain": [
       "array([[ 7.15060146e-01,  3.48520634e-01,  2.17937716e-01],\n",
       "       [ 2.27889026e+00,  1.63717557e+00,  2.80013210e-02],\n",
       "       [ 6.39058801e-01, -9.22341295e-01,  5.74611602e-04]])"
      ]
     },
     "execution_count": 14,
     "metadata": {},
     "output_type": "execute_result"
    }
   ],
   "source": [
    "np.random.normal(size=(3,3))  # returns 3x3 array of samples from standard normal distribution"
   ]
  },
  {
   "cell_type": "code",
   "execution_count": null,
   "metadata": {
    "collapsed": true
   },
   "outputs": [],
   "source": [
    "np.random.seed(1234)  # set random seed"
   ]
  },
  {
   "cell_type": "code",
   "execution_count": null,
   "metadata": {
    "collapsed": true
   },
   "outputs": [],
   "source": [
    "rand_gen = np.random.RandomState(1234)  # create a random number generator, isolated from others\n",
    "\n",
    "rand_gen.rand(5)\n",
    "rand_gen.randn(5)"
   ]
  },
  {
   "cell_type": "markdown",
   "metadata": {},
   "source": [
    "Functions of `numpy.random` :\n",
    "* `seed`\n",
    "* `permutation`  (Return a random permutation of a sequence, or return a permuted range.)\n",
    "* `shuffle`  (Randomly permute a sequence in-place.)\n",
    "* `rand` (from uniform distribution over $[0,1)$), `randn` (from standard normal distribution)\n",
    "* `randint`  (random integers given low-to-high range)\n",
    "* `binomial` (binomial distribution), `normal`, `beta` (beta distribution), `chisquare` (chi-square distribution), `gamma` (gamma distribution), `uniform`"
   ]
  },
  {
   "cell_type": "markdown",
   "metadata": {},
   "source": [
    "# Broadcasting\n",
    "In an array operation like `a+b`, if the arrays do have the same shape, one or both of the arrays are extended (by repeating) to the same shape (without actually copying data) before the operation is carried out. "
   ]
  },
  {
   "cell_type": "code",
   "execution_count": 36,
   "metadata": {},
   "outputs": [
    {
     "data": {
      "text/plain": [
       "array([[1, 2, 3],\n",
       "       [4, 5, 6]])"
      ]
     },
     "execution_count": 36,
     "metadata": {},
     "output_type": "execute_result"
    }
   ],
   "source": [
    "a = np.array([[1,2,3],[4,5,6]])\n",
    "a"
   ]
  },
  {
   "cell_type": "code",
   "execution_count": 38,
   "metadata": {},
   "outputs": [
    {
     "data": {
      "text/plain": [
       "array([[0, 2, 4],\n",
       "       [3, 5, 7]])"
      ]
     },
     "execution_count": 38,
     "metadata": {},
     "output_type": "execute_result"
    }
   ],
   "source": [
    "b = np.array([-1,0,1])\n",
    "a + b\n",
    "# `b` is broadcasted to \n",
    "# [[-1,0,1]\n",
    "#  [-1,0,1]]"
   ]
  },
  {
   "cell_type": "code",
   "execution_count": 39,
   "metadata": {},
   "outputs": [
    {
     "data": {
      "text/plain": [
       "array([[0, 1, 2],\n",
       "       [5, 6, 7]])"
      ]
     },
     "execution_count": 39,
     "metadata": {},
     "output_type": "execute_result"
    }
   ],
   "source": [
    "b = np.array([[-1],\n",
    "              [ 1]])\n",
    "a + b\n",
    "# `b` is broadcasted to \n",
    "# [[-1,-1,-1]\n",
    "#  [ 1, 1, 1]]"
   ]
  },
  {
   "cell_type": "code",
   "execution_count": 41,
   "metadata": {},
   "outputs": [
    {
     "data": {
      "text/plain": [
       "array([[0, 1, 2],\n",
       "       [2, 3, 4]])"
      ]
     },
     "execution_count": 41,
     "metadata": {},
     "output_type": "execute_result"
    }
   ],
   "source": [
    "a = np.array([1,2,3])\n",
    "b = np.array([[-1],\n",
    "              [ 1]])\n",
    "a + b  # both `a` and `b` are broadcasted to shape 2x3"
   ]
  },
  {
   "cell_type": "code",
   "execution_count": 45,
   "metadata": {
    "collapsed": true
   },
   "outputs": [],
   "source": [
    "a = np.array([[1,2,3],\n",
    "              [4,5,6]])\n",
    "b = np.array([[0],\n",
    "              [1],\n",
    "              [2]])\n",
    "#a + b  # won't work"
   ]
  }
 ],
 "metadata": {
  "kernelspec": {
   "display_name": "Python 3",
   "language": "python",
   "name": "python3"
  },
  "language_info": {
   "codemirror_mode": {
    "name": "ipython",
    "version": 3
   },
   "file_extension": ".py",
   "mimetype": "text/x-python",
   "name": "python",
   "nbconvert_exporter": "python",
   "pygments_lexer": "ipython3",
   "version": "3.6.4"
  },
  "toc": {
   "base_numbering": 1,
   "nav_menu": {
    "height": "460px",
    "width": "469px"
   },
   "number_sections": true,
   "sideBar": true,
   "skip_h1_title": false,
   "title_cell": "NumPy Basics",
   "title_sidebar": "Contents",
   "toc_cell": true,
   "toc_position": {
    "height": "calc(100% - 180px)",
    "left": "10px",
    "top": "150px",
    "width": "299px"
   },
   "toc_section_display": true,
   "toc_window_display": true
  }
 },
 "nbformat": 4,
 "nbformat_minor": 2
}
