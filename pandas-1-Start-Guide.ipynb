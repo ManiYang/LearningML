{
 "cells": [
  {
   "cell_type": "markdown",
   "metadata": {
    "toc": true
   },
   "source": [
    "<h1>pandas Start Guide<span class=\"tocSkip\"></span></h1>\n",
    "<div class=\"toc\"><ul class=\"toc-item\"><li><span><a href=\"#pandas-Data-Structures\" data-toc-modified-id=\"pandas-Data-Structures-1\"><span class=\"toc-item-num\">1&nbsp;&nbsp;</span>pandas Data Structures</a></span><ul class=\"toc-item\"><li><span><a href=\"#Series\" data-toc-modified-id=\"Series-1.1\"><span class=\"toc-item-num\">1.1&nbsp;&nbsp;</span>Series</a></span><ul class=\"toc-item\"><li><span><a href=\"#Series\" data-toc-modified-id=\"Series-1.1.1\"><span class=\"toc-item-num\">1.1.1&nbsp;&nbsp;</span>Series</a></span></li><li><span><a href=\"#creating-Series-from-dict\" data-toc-modified-id=\"creating-Series-from-dict-1.1.2\"><span class=\"toc-item-num\">1.1.2&nbsp;&nbsp;</span>creating Series from dict</a></span></li></ul></li><li><span><a href=\"#DataFrame\" data-toc-modified-id=\"DataFrame-1.2\"><span class=\"toc-item-num\">1.2&nbsp;&nbsp;</span>DataFrame</a></span><ul class=\"toc-item\"><li><span><a href=\"#DataFrame\" data-toc-modified-id=\"DataFrame-1.2.1\"><span class=\"toc-item-num\">1.2.1&nbsp;&nbsp;</span>DataFrame</a></span></li><li><span><a href=\"#add/modify/delete-columns-or-rows\" data-toc-modified-id=\"add/modify/delete-columns-or-rows-1.2.2\"><span class=\"toc-item-num\">1.2.2&nbsp;&nbsp;</span>add/modify/delete columns or rows</a></span></li><li><span><a href=\"#transpose\" data-toc-modified-id=\"transpose-1.2.3\"><span class=\"toc-item-num\">1.2.3&nbsp;&nbsp;</span>transpose</a></span></li></ul></li><li><span><a href=\"#Index-Objects\" data-toc-modified-id=\"Index-Objects-1.3\"><span class=\"toc-item-num\">1.3&nbsp;&nbsp;</span>Index Objects</a></span><ul class=\"toc-item\"><li><span><a href=\"#methods/attributes-of-Index\" data-toc-modified-id=\"methods/attributes-of-Index-1.3.1\"><span class=\"toc-item-num\">1.3.1&nbsp;&nbsp;</span>methods/attributes of Index</a></span></li></ul></li></ul></li><li><span><a href=\"#Essential-Funcionality\" data-toc-modified-id=\"Essential-Funcionality-2\"><span class=\"toc-item-num\">2&nbsp;&nbsp;</span>Essential Funcionality</a></span><ul class=\"toc-item\"><li><span><a href=\"#Reindexing\" data-toc-modified-id=\"Reindexing-2.1\"><span class=\"toc-item-num\">2.1&nbsp;&nbsp;</span>Reindexing</a></span></li><li><span><a href=\"#Dropping-Entries-from-an-Axis\" data-toc-modified-id=\"Dropping-Entries-from-an-Axis-2.2\"><span class=\"toc-item-num\">2.2&nbsp;&nbsp;</span>Dropping Entries from an Axis</a></span></li><li><span><a href=\"#Indexing,-Selecting,-Filtering\" data-toc-modified-id=\"Indexing,-Selecting,-Filtering-2.3\"><span class=\"toc-item-num\">2.3&nbsp;&nbsp;</span>Indexing, Selecting, Filtering</a></span><ul class=\"toc-item\"><li><span><a href=\"#Series\" data-toc-modified-id=\"Series-2.3.1\"><span class=\"toc-item-num\">2.3.1&nbsp;&nbsp;</span>Series</a></span></li><li><span><a href=\"#DataFrame\" data-toc-modified-id=\"DataFrame-2.3.2\"><span class=\"toc-item-num\">2.3.2&nbsp;&nbsp;</span>DataFrame</a></span></li><li><span><a href=\"#selection-with-loc-&amp;-iloc\" data-toc-modified-id=\"selection-with-loc-&amp;-iloc-2.3.3\"><span class=\"toc-item-num\">2.3.3&nbsp;&nbsp;</span>selection with loc &amp; iloc</a></span></li></ul></li><li><span><a href=\"#Function-Application-and-Mapping\" data-toc-modified-id=\"Function-Application-and-Mapping-2.4\"><span class=\"toc-item-num\">2.4&nbsp;&nbsp;</span>Function Application and Mapping</a></span></li><li><span><a href=\"#Sorting-and-Ranking\" data-toc-modified-id=\"Sorting-and-Ranking-2.5\"><span class=\"toc-item-num\">2.5&nbsp;&nbsp;</span>Sorting and Ranking</a></span><ul class=\"toc-item\"><li><span><a href=\"#sorting-by-index\" data-toc-modified-id=\"sorting-by-index-2.5.1\"><span class=\"toc-item-num\">2.5.1&nbsp;&nbsp;</span>sorting by index</a></span></li><li><span><a href=\"#sorting-by-values\" data-toc-modified-id=\"sorting-by-values-2.5.2\"><span class=\"toc-item-num\">2.5.2&nbsp;&nbsp;</span>sorting by values</a></span></li><li><span><a href=\"#ranking\" data-toc-modified-id=\"ranking-2.5.3\"><span class=\"toc-item-num\">2.5.3&nbsp;&nbsp;</span>ranking</a></span></li></ul></li></ul></li><li><span><a href=\"#Descriptive-Statistics\" data-toc-modified-id=\"Descriptive-Statistics-3\"><span class=\"toc-item-num\">3&nbsp;&nbsp;</span>Descriptive Statistics</a></span><ul class=\"toc-item\"><li><span><a href=\"#Descriptive-and-Summary-Statistics\" data-toc-modified-id=\"Descriptive-and-Summary-Statistics-3.1\"><span class=\"toc-item-num\">3.1&nbsp;&nbsp;</span>Descriptive and Summary Statistics</a></span><ul class=\"toc-item\"><li><span><a href=\"#list-of-functions\" data-toc-modified-id=\"list-of-functions-3.1.1\"><span class=\"toc-item-num\">3.1.1&nbsp;&nbsp;</span>list of functions</a></span></li></ul></li><li><span><a href=\"#Correlation-and-Covariance\" data-toc-modified-id=\"Correlation-and-Covariance-3.2\"><span class=\"toc-item-num\">3.2&nbsp;&nbsp;</span>Correlation and Covariance</a></span></li><li><span><a href=\"#Unique-Values,-Value-Counts,-and-Membership\" data-toc-modified-id=\"Unique-Values,-Value-Counts,-and-Membership-3.3\"><span class=\"toc-item-num\">3.3&nbsp;&nbsp;</span>Unique Values, Value Counts, and Membership</a></span></li></ul></li></ul></div>"
   ]
  },
  {
   "cell_type": "markdown",
   "metadata": {},
   "source": [
    "pandas is designed for working with **tabular** or **heterogeneous** data. <br/>\n",
    "NumPy is best suited for working with homogeneous numerical (n-dimensional) arrays."
   ]
  },
  {
   "cell_type": "code",
   "execution_count": 3,
   "metadata": {},
   "outputs": [
    {
     "data": {
      "text/plain": [
       "'0.20.3'"
      ]
     },
     "execution_count": 3,
     "metadata": {},
     "output_type": "execute_result"
    }
   ],
   "source": [
    "import pandas as pd\n",
    "#from pandas import Series, DataFrame\n",
    "pd.__version__"
   ]
  },
  {
   "cell_type": "markdown",
   "metadata": {},
   "source": [
    "# pandas Data Structures\n",
    "## Series\n",
    "### Series\n",
    "A Series is like a 1-dimensional array, but has an associated array of data labels, called its *index*."
   ]
  },
  {
   "cell_type": "code",
   "execution_count": 4,
   "metadata": {},
   "outputs": [
    {
     "name": "stdout",
     "output_type": "stream",
     "text": [
      "0    30\n",
      "1    14\n",
      "2     a\n",
      "3    56\n",
      "dtype: object\n",
      "\n",
      "s.value: [30 14 'a' 56]\n",
      "s.index: RangeIndex(start=0, stop=4, step=1)\n",
      "s.size: 4\n"
     ]
    }
   ],
   "source": [
    "s = pd.Series([30, 14, 'a', 56])  # default index: [0,1,2,...]\n",
    "print(s)\n",
    "print()\n",
    "print('s.value:', s.values)  # get the values\n",
    "print('s.index:', s.index)\n",
    "print('s.size:', s.size)"
   ]
  },
  {
   "cell_type": "code",
   "execution_count": 5,
   "metadata": {},
   "outputs": [
    {
     "data": {
      "text/plain": [
       "a    30\n",
       "b    14\n",
       "c     a\n",
       "d    56\n",
       "dtype: object"
      ]
     },
     "execution_count": 5,
     "metadata": {},
     "output_type": "execute_result"
    }
   ],
   "source": [
    "# changing index (the element of index need not be distinct)\n",
    "s.index = ['a', 'b', 'c', 'd']\n",
    "s"
   ]
  },
  {
   "cell_type": "code",
   "execution_count": 6,
   "metadata": {},
   "outputs": [
    {
     "data": {
      "text/plain": [
       "id\n",
       "a    30\n",
       "b    14\n",
       "c     a\n",
       "d    56\n",
       "Name: my 1st pandas series, dtype: object"
      ]
     },
     "execution_count": 6,
     "metadata": {},
     "output_type": "execute_result"
    }
   ],
   "source": [
    "# setting names of a Series and its index\n",
    "s.name = 'my 1st pandas series'\n",
    "s.index.name = 'id'\n",
    "s"
   ]
  },
  {
   "cell_type": "code",
   "execution_count": 40,
   "metadata": {
    "scrolled": true
   },
   "outputs": [
    {
     "name": "stdout",
     "output_type": "stream",
     "text": [
      "a    30\n",
      "b   -14\n",
      "c     7\n",
      "c    56\n",
      "dtype: int64\n",
      "\n",
      "s.index: Index(['a', 'b', 'c', 'c'], dtype='object')\n"
     ]
    }
   ],
   "source": [
    "# specifying index on creation (the element of index need not be distinct)\n",
    "s = pd.Series([30, -14, 7, 56], index=['a', 'b', 'c', 'c'])\n",
    "print(s)\n",
    "print()\n",
    "print('s.index:', s.index)"
   ]
  },
  {
   "cell_type": "code",
   "execution_count": 16,
   "metadata": {},
   "outputs": [
    {
     "name": "stdout",
     "output_type": "stream",
     "text": [
      "a    30\n",
      "b   -14\n",
      "c     7\n",
      "c    56\n",
      "dtype: int64\n"
     ]
    },
    {
     "data": {
      "text/plain": [
       "a    3\n",
       "dtype: int64"
      ]
     },
     "execution_count": 16,
     "metadata": {},
     "output_type": "execute_result"
    }
   ],
   "source": [
    "# indexing\n",
    "s = pd.Series([30, -14, 7, 56], index=['a', 'b', 'c', 'c'])\n",
    "print(s)\n",
    "\n",
    "s['a']  # 30\n",
    "\n",
    "s['c']  # c  7 \n",
    "        # c 56\n",
    "\n",
    "s['a'] = 3\n",
    "\n",
    "s1 = s[['a', 'b']] # a    3\n",
    "              # b  -14\n",
    "type(s1)    \n",
    "\n",
    "# # indexing by location    \n",
    "s.iloc[1]  # -14\n",
    "#s[1]  # buggy?\n",
    "\n",
    "# # slicing\n",
    "s[0:1] # a   3  (a Series) (return a view) "
   ]
  },
  {
   "cell_type": "markdown",
   "metadata": {},
   "source": [
    "See [Indexing, Selecting, Filtering](#Indexing,-Selecting,-Filtering) for more on indexing."
   ]
  },
  {
   "cell_type": "code",
   "execution_count": 140,
   "metadata": {},
   "outputs": [
    {
     "name": "stdout",
     "output_type": "stream",
     "text": [
      "a    30\n",
      "b   -14\n",
      "c     7\n",
      "c    56\n",
      "dtype: int64\n"
     ]
    },
    {
     "data": {
      "text/plain": [
       "a    30\n",
       "b   -14\n",
       "c     7\n",
       "c    56\n",
       "dtype: int64"
      ]
     },
     "execution_count": 140,
     "metadata": {},
     "output_type": "execute_result"
    }
   ],
   "source": [
    "# arithmetics and NumPy functions\n",
    "import numpy as np\n",
    "s = pd.Series([30, -14, 7, 56], index=['a', 'b', 'c', 'c'])\n",
    "\n",
    "np.cos(s)\n",
    "s * 2\n",
    "\n",
    "s > 0  # a   True\n",
    "       # b  False\n",
    "       # c   True\n",
    "       # c   True\n",
    "    \n",
    "s1 = s[[True,False,True,False]]  # returns a copy\n",
    "s[s > 0]  # a  30\n",
    "          # c   7\n",
    "          # c  56"
   ]
  },
  {
   "cell_type": "code",
   "execution_count": 23,
   "metadata": {},
   "outputs": [
    {
     "name": "stdout",
     "output_type": "stream",
     "text": [
      "a    30\n",
      "b   -14\n",
      "c     7\n",
      "c    56\n",
      "dtype: int64\n"
     ]
    },
    {
     "data": {
      "text/plain": [
       "True"
      ]
     },
     "execution_count": 23,
     "metadata": {},
     "output_type": "execute_result"
    }
   ],
   "source": [
    "print(s)\n",
    "'a' in s  # True"
   ]
  },
  {
   "cell_type": "markdown",
   "metadata": {},
   "source": [
    "[練習] \n",
    "1. 請建立一個 index 為 `['a1','a2','a3','a4']`、值為亂數的 Series (設定到變數 `s`). 提示: 使用 `numpy.random.rand(4)`\n",
    "2. 利用 `s` 產生另一個 Series，index 與 `s` 相同，但值為 `s` 值的平方\n",
    "3. 印出 `s` 裡面 數值 > 0.5 的資料"
   ]
  },
  {
   "cell_type": "code",
   "execution_count": 31,
   "metadata": {},
   "outputs": [
    {
     "data": {
      "text/plain": [
       "a1    0.664520\n",
       "a2    0.978035\n",
       "a3    0.849068\n",
       "dtype: float64"
      ]
     },
     "execution_count": 31,
     "metadata": {},
     "output_type": "execute_result"
    }
   ],
   "source": [
    "s = pd.Series(np.random.rand(4), index=['a1','a2','a3','a4'])\n",
    "s1 = s*s\n",
    "s2 = s[s > 0.5]\n",
    "s2"
   ]
  },
  {
   "cell_type": "markdown",
   "metadata": {},
   "source": [
    "### creating Series from dict"
   ]
  },
  {
   "cell_type": "code",
   "execution_count": 48,
   "metadata": {},
   "outputs": [
    {
     "data": {
      "text/plain": [
       "Hsinchu     120\n",
       "Taichung    102\n",
       "Tainan      137\n",
       "Taipei      350\n",
       "Taoyuan      71\n",
       "dtype: int64"
      ]
     },
     "execution_count": 48,
     "metadata": {},
     "output_type": "execute_result"
    }
   ],
   "source": [
    "city_data = {'Taoyuan': 71, 'Taipei': 350, 'Hsinchu': 120, 'Taichung': 102, 'Tainan':137}\n",
    "s1 = pd.Series(city_data)\n",
    "s1"
   ]
  },
  {
   "cell_type": "code",
   "execution_count": 36,
   "metadata": {},
   "outputs": [
    {
     "data": {
      "text/plain": [
       "Taipei      350.0\n",
       "Taoyuan      71.0\n",
       "Hsinchu     120.0\n",
       "Miaoli        NaN\n",
       "Taichung    102.0\n",
       "dtype: float64"
      ]
     },
     "execution_count": 36,
     "metadata": {},
     "output_type": "execute_result"
    }
   ],
   "source": [
    "city_data = {'Taoyuan': 71, 'Taipei': 350, 'Hsinchu': 120, 'Taichung': 102, 'Tainan':137}\n",
    "cities_index = ['Taipei', 'Taoyuan', 'Hsinchu', 'Miaoli', 'Taichung']\n",
    "s2 = pd.Series(city_data, index=cities_index)\n",
    "s2\n",
    "\n",
    "# x = np.nan\n",
    "# np.isnan(x)"
   ]
  },
  {
   "cell_type": "code",
   "execution_count": 46,
   "metadata": {},
   "outputs": [
    {
     "data": {
      "text/plain": [
       "Taipei       True\n",
       "Taoyuan      True\n",
       "Hsinchu      True\n",
       "Miaoli      False\n",
       "Taichung     True\n",
       "dtype: bool"
      ]
     },
     "execution_count": 46,
     "metadata": {},
     "output_type": "execute_result"
    }
   ],
   "source": [
    "# missing values\n",
    "s2.isnull()\n",
    "pd.isnull(s2)  # same\n",
    "\n",
    "s2.notnull()\n",
    "pd.notnull(s2)  # same"
   ]
  },
  {
   "cell_type": "markdown",
   "metadata": {},
   "source": [
    "Exercise. Print the labels with missing value in a Series (such as `s2`)."
   ]
  },
  {
   "cell_type": "code",
   "execution_count": 44,
   "metadata": {},
   "outputs": [
    {
     "data": {
      "text/plain": [
       "Miaoli   NaN\n",
       "dtype: float64"
      ]
     },
     "execution_count": 44,
     "metadata": {},
     "output_type": "execute_result"
    }
   ],
   "source": [
    "s2[s2.isnull()]"
   ]
  },
  {
   "cell_type": "code",
   "execution_count": 49,
   "metadata": {},
   "outputs": [
    {
     "name": "stdout",
     "output_type": "stream",
     "text": [
      "=== s1 ===\n",
      "Hsinchu     120\n",
      "Taichung    102\n",
      "Tainan      137\n",
      "Taipei      350\n",
      "Taoyuan      71\n",
      "dtype: int64\n",
      "=== s2 ===\n",
      "Taipei      350.0\n",
      "Taoyuan      71.0\n",
      "Hsinchu     120.0\n",
      "Miaoli        NaN\n",
      "Taichung    102.0\n",
      "dtype: float64\n"
     ]
    },
    {
     "data": {
      "text/plain": [
       "Hsinchu     240.0\n",
       "Miaoli        NaN\n",
       "Taichung    204.0\n",
       "Tainan        NaN\n",
       "Taipei      700.0\n",
       "Taoyuan     142.0\n",
       "dtype: float64"
      ]
     },
     "execution_count": 49,
     "metadata": {},
     "output_type": "execute_result"
    }
   ],
   "source": [
    "print('=== s1 ===\\n', s1, sep='')\n",
    "print('=== s2 ===\\n', s2, sep='')\n",
    "\n",
    "s1 + s2  # addition by label"
   ]
  },
  {
   "cell_type": "markdown",
   "metadata": {},
   "source": [
    "## DataFrame\n",
    "### DataFrame\n",
    "A DataFrame represents a rectangular table of data, where the columns can be of different data types."
   ]
  },
  {
   "cell_type": "code",
   "execution_count": 51,
   "metadata": {},
   "outputs": [
    {
     "data": {
      "text/html": [
       "<div>\n",
       "<style>\n",
       "    .dataframe thead tr:only-child th {\n",
       "        text-align: right;\n",
       "    }\n",
       "\n",
       "    .dataframe thead th {\n",
       "        text-align: left;\n",
       "    }\n",
       "\n",
       "    .dataframe tbody tr th {\n",
       "        vertical-align: top;\n",
       "    }\n",
       "</style>\n",
       "<table border=\"1\" class=\"dataframe\">\n",
       "  <thead>\n",
       "    <tr style=\"text-align: right;\">\n",
       "      <th></th>\n",
       "      <th>A</th>\n",
       "      <th>B</th>\n",
       "      <th>C</th>\n",
       "    </tr>\n",
       "  </thead>\n",
       "  <tbody>\n",
       "    <tr>\n",
       "      <th>101</th>\n",
       "      <td>1</td>\n",
       "      <td>2</td>\n",
       "      <td>3</td>\n",
       "    </tr>\n",
       "    <tr>\n",
       "      <th>102</th>\n",
       "      <td>4</td>\n",
       "      <td>5</td>\n",
       "      <td>6</td>\n",
       "    </tr>\n",
       "    <tr>\n",
       "      <th>103</th>\n",
       "      <td>7</td>\n",
       "      <td>8</td>\n",
       "      <td>9</td>\n",
       "    </tr>\n",
       "  </tbody>\n",
       "</table>\n",
       "</div>"
      ],
      "text/plain": [
       "     A  B  C\n",
       "101  1  2  3\n",
       "102  4  5  6\n",
       "103  7  8  9"
      ]
     },
     "execution_count": 51,
     "metadata": {},
     "output_type": "execute_result"
    }
   ],
   "source": [
    "frame = pd.DataFrame([[1,2,3],[4,5,6],[7,8,9]])\n",
    "frame = pd.DataFrame([[1,2,3],[4,5,6],[7,8,9]], columns=['A', 'B', 'C'], index=[101,102,103])\n",
    "frame"
   ]
  },
  {
   "cell_type": "code",
   "execution_count": 65,
   "metadata": {},
   "outputs": [
    {
     "data": {
      "text/html": [
       "<div>\n",
       "<style>\n",
       "    .dataframe thead tr:only-child th {\n",
       "        text-align: right;\n",
       "    }\n",
       "\n",
       "    .dataframe thead th {\n",
       "        text-align: left;\n",
       "    }\n",
       "\n",
       "    .dataframe tbody tr th {\n",
       "        vertical-align: top;\n",
       "    }\n",
       "</style>\n",
       "<table border=\"1\" class=\"dataframe\">\n",
       "  <thead>\n",
       "    <tr style=\"text-align: right;\">\n",
       "      <th></th>\n",
       "      <th>year</th>\n",
       "      <th>state</th>\n",
       "      <th>pop</th>\n",
       "    </tr>\n",
       "  </thead>\n",
       "  <tbody>\n",
       "    <tr>\n",
       "      <th>101</th>\n",
       "      <td>2000</td>\n",
       "      <td>Ohio</td>\n",
       "      <td>NaN</td>\n",
       "    </tr>\n",
       "    <tr>\n",
       "      <th>102</th>\n",
       "      <td>2001</td>\n",
       "      <td>Ohio</td>\n",
       "      <td>1.7</td>\n",
       "    </tr>\n",
       "    <tr>\n",
       "      <th>103</th>\n",
       "      <td>2002</td>\n",
       "      <td>Ohio</td>\n",
       "      <td>3.6</td>\n",
       "    </tr>\n",
       "    <tr>\n",
       "      <th>104</th>\n",
       "      <td>2001</td>\n",
       "      <td>Nevada</td>\n",
       "      <td>2.4</td>\n",
       "    </tr>\n",
       "    <tr>\n",
       "      <th>105</th>\n",
       "      <td>2002</td>\n",
       "      <td>Nevada</td>\n",
       "      <td>2.9</td>\n",
       "    </tr>\n",
       "    <tr>\n",
       "      <th>106</th>\n",
       "      <td>2003</td>\n",
       "      <td>Nevada</td>\n",
       "      <td>NaN</td>\n",
       "    </tr>\n",
       "  </tbody>\n",
       "</table>\n",
       "</div>"
      ],
      "text/plain": [
       "     year   state  pop\n",
       "101  2000    Ohio  NaN\n",
       "102  2001    Ohio  1.7\n",
       "103  2002    Ohio  3.6\n",
       "104  2001  Nevada  2.4\n",
       "105  2002  Nevada  2.9\n",
       "106  2003  Nevada  NaN"
      ]
     },
     "execution_count": 65,
     "metadata": {},
     "output_type": "execute_result"
    }
   ],
   "source": [
    "data_dict = {'state': ['Ohio', 'Ohio', 'Ohio', 'Nevada', 'Nevada', 'Nevada'],\n",
    "             'year': [2000, 2001, 2002, 2001, 2002, 2003],\n",
    "             'pop': [1.5, 1.7, 3.6, 2.4, 2.9, 3.2]}\n",
    "frame = pd.DataFrame(data_dict)\n",
    "frame = pd.DataFrame(data_dict, columns=['year', 'state', 'pop'])\n",
    "frame = pd.DataFrame(data_dict, columns=['year', 'state', 'pop'], index=range(101,107))\n",
    "\n",
    "frame\n",
    "frame.head(4)  # show first 4 rows\n",
    "\n",
    "###\n",
    "frame2 = pd.DataFrame({'year':  {101: 2000,   102: 2001,   103: 2002,   104: 2001},\n",
    "                       'state': {101: 'Ohio', 102: 'Ohio', 103: 'Ohio', 104: 'Nevada'},\n",
    "                       'pop':   {101: 1.5,    102: 1.7,                 104: 2.4}\n",
    "                      },\n",
    "                      columns=['year', 'state', 'pop'])\n",
    "frame2\n",
    "\n",
    "###\n",
    "frame3 = pd.DataFrame({'year': frame['year'],\n",
    "                       'state': frame['state'], \n",
    "                       'pop': frame['pop'][1:-1]\n",
    "                      },\n",
    "                      columns=['year', 'state', 'pop'])\n",
    "frame3"
   ]
  },
  {
   "cell_type": "code",
   "execution_count": 76,
   "metadata": {},
   "outputs": [
    {
     "data": {
      "text/html": [
       "<div>\n",
       "<style>\n",
       "    .dataframe thead tr:only-child th {\n",
       "        text-align: right;\n",
       "    }\n",
       "\n",
       "    .dataframe thead th {\n",
       "        text-align: left;\n",
       "    }\n",
       "\n",
       "    .dataframe tbody tr th {\n",
       "        vertical-align: top;\n",
       "    }\n",
       "</style>\n",
       "<table border=\"1\" class=\"dataframe\">\n",
       "  <thead>\n",
       "    <tr style=\"text-align: right;\">\n",
       "      <th>col_name</th>\n",
       "      <th>year</th>\n",
       "      <th>state</th>\n",
       "      <th>pop</th>\n",
       "    </tr>\n",
       "    <tr>\n",
       "      <th>id</th>\n",
       "      <th></th>\n",
       "      <th></th>\n",
       "      <th></th>\n",
       "    </tr>\n",
       "  </thead>\n",
       "  <tbody>\n",
       "    <tr>\n",
       "      <th>101</th>\n",
       "      <td>2000</td>\n",
       "      <td>Ohio</td>\n",
       "      <td>1.5</td>\n",
       "    </tr>\n",
       "    <tr>\n",
       "      <th>102</th>\n",
       "      <td>2001</td>\n",
       "      <td>Ohio</td>\n",
       "      <td>1.7</td>\n",
       "    </tr>\n",
       "    <tr>\n",
       "      <th>103</th>\n",
       "      <td>2002</td>\n",
       "      <td>Ohio</td>\n",
       "      <td>3.6</td>\n",
       "    </tr>\n",
       "    <tr>\n",
       "      <th>104</th>\n",
       "      <td>2001</td>\n",
       "      <td>Nevada</td>\n",
       "      <td>2.4</td>\n",
       "    </tr>\n",
       "    <tr>\n",
       "      <th>105</th>\n",
       "      <td>2002</td>\n",
       "      <td>Nevada</td>\n",
       "      <td>2.9</td>\n",
       "    </tr>\n",
       "    <tr>\n",
       "      <th>106</th>\n",
       "      <td>2003</td>\n",
       "      <td>Nevada</td>\n",
       "      <td>3.2</td>\n",
       "    </tr>\n",
       "  </tbody>\n",
       "</table>\n",
       "</div>"
      ],
      "text/plain": [
       "col_name  year   state  pop\n",
       "id                         \n",
       "101       2000    Ohio  1.5\n",
       "102       2001    Ohio  1.7\n",
       "103       2002    Ohio  3.6\n",
       "104       2001  Nevada  2.4\n",
       "105       2002  Nevada  2.9\n",
       "106       2003  Nevada  3.2"
      ]
     },
     "execution_count": 76,
     "metadata": {},
     "output_type": "execute_result"
    }
   ],
   "source": [
    "# set index name and column name\n",
    "frame.index.name = 'id'\n",
    "frame.columns.name = 'col_name'\n",
    "frame"
   ]
  },
  {
   "cell_type": "code",
   "execution_count": 11,
   "metadata": {},
   "outputs": [
    {
     "data": {
      "text/plain": [
       "Index(['year', 'state', 'pop'], dtype='object', name='col_name')"
      ]
     },
     "execution_count": 11,
     "metadata": {},
     "output_type": "execute_result"
    }
   ],
   "source": [
    "frame.columns  # get the column Index (as a view/reference)"
   ]
  },
  {
   "cell_type": "code",
   "execution_count": 60,
   "metadata": {},
   "outputs": [
    {
     "data": {
      "text/plain": [
       "array([[2000, 'Ohio', 1.5],\n",
       "       [2001, 'Ohio', 1.7],\n",
       "       [2002, 'Ohio', 3.6],\n",
       "       [2001, 'Nevada', 2.4],\n",
       "       [2002, 'Nevada', 2.9],\n",
       "       [2003, 'Nevada', 3.2]], dtype=object)"
      ]
     },
     "execution_count": 60,
     "metadata": {},
     "output_type": "execute_result"
    }
   ],
   "source": [
    "frame.values  # get all values"
   ]
  },
  {
   "cell_type": "code",
   "execution_count": 68,
   "metadata": {},
   "outputs": [
    {
     "data": {
      "text/html": [
       "<div>\n",
       "<style>\n",
       "    .dataframe thead tr:only-child th {\n",
       "        text-align: right;\n",
       "    }\n",
       "\n",
       "    .dataframe thead th {\n",
       "        text-align: left;\n",
       "    }\n",
       "\n",
       "    .dataframe tbody tr th {\n",
       "        vertical-align: top;\n",
       "    }\n",
       "</style>\n",
       "<table border=\"1\" class=\"dataframe\">\n",
       "  <thead>\n",
       "    <tr style=\"text-align: right;\">\n",
       "      <th></th>\n",
       "      <th>year</th>\n",
       "      <th>pop</th>\n",
       "    </tr>\n",
       "  </thead>\n",
       "  <tbody>\n",
       "    <tr>\n",
       "      <th>101</th>\n",
       "      <td>2000</td>\n",
       "      <td>1.5</td>\n",
       "    </tr>\n",
       "    <tr>\n",
       "      <th>102</th>\n",
       "      <td>2001</td>\n",
       "      <td>1.7</td>\n",
       "    </tr>\n",
       "    <tr>\n",
       "      <th>103</th>\n",
       "      <td>2002</td>\n",
       "      <td>3.6</td>\n",
       "    </tr>\n",
       "    <tr>\n",
       "      <th>104</th>\n",
       "      <td>2001</td>\n",
       "      <td>2.4</td>\n",
       "    </tr>\n",
       "    <tr>\n",
       "      <th>105</th>\n",
       "      <td>2002</td>\n",
       "      <td>2.9</td>\n",
       "    </tr>\n",
       "    <tr>\n",
       "      <th>106</th>\n",
       "      <td>2003</td>\n",
       "      <td>3.2</td>\n",
       "    </tr>\n",
       "  </tbody>\n",
       "</table>\n",
       "</div>"
      ],
      "text/plain": [
       "     year  pop\n",
       "101  2000  1.5\n",
       "102  2001  1.7\n",
       "103  2002  3.6\n",
       "104  2001  2.4\n",
       "105  2002  2.9\n",
       "106  2003  3.2"
      ]
     },
     "execution_count": 68,
     "metadata": {},
     "output_type": "execute_result"
    }
   ],
   "source": [
    "# get data in specific column\n",
    "frame['year']  # return a Series\n",
    "frame.year  # this works only if the column label is a valid Python variable name\n",
    "\n",
    "frame[['year','pop']]"
   ]
  },
  {
   "cell_type": "code",
   "execution_count": 72,
   "metadata": {},
   "outputs": [
    {
     "name": "stdout",
     "output_type": "stream",
     "text": [
      "year     2000\n",
      "state    Ohio\n",
      "pop       1.5\n",
      "Name: 101, dtype: object\n"
     ]
    },
    {
     "data": {
      "text/html": [
       "<div>\n",
       "<style>\n",
       "    .dataframe thead tr:only-child th {\n",
       "        text-align: right;\n",
       "    }\n",
       "\n",
       "    .dataframe thead th {\n",
       "        text-align: left;\n",
       "    }\n",
       "\n",
       "    .dataframe tbody tr th {\n",
       "        vertical-align: top;\n",
       "    }\n",
       "</style>\n",
       "<table border=\"1\" class=\"dataframe\">\n",
       "  <thead>\n",
       "    <tr style=\"text-align: right;\">\n",
       "      <th></th>\n",
       "      <th>year</th>\n",
       "      <th>state</th>\n",
       "      <th>pop</th>\n",
       "    </tr>\n",
       "  </thead>\n",
       "  <tbody>\n",
       "    <tr>\n",
       "      <th>101</th>\n",
       "      <td>2000</td>\n",
       "      <td>Ohio</td>\n",
       "      <td>1.5</td>\n",
       "    </tr>\n",
       "    <tr>\n",
       "      <th>104</th>\n",
       "      <td>2001</td>\n",
       "      <td>Nevada</td>\n",
       "      <td>2.4</td>\n",
       "    </tr>\n",
       "  </tbody>\n",
       "</table>\n",
       "</div>"
      ],
      "text/plain": [
       "     year   state  pop\n",
       "101  2000    Ohio  1.5\n",
       "104  2001  Nevada  2.4"
      ]
     },
     "execution_count": 72,
     "metadata": {},
     "output_type": "execute_result"
    }
   ],
   "source": [
    "# get specific row(s)\n",
    "s = frame.loc[101]  # return the row with index = 101, as a Series\n",
    "print(s)\n",
    "\n",
    "frame.loc[[101]]  # return the row with index = 101, as a DataFrame\n",
    "frame.loc[[101, 104]]  # return the row with specified index values, as a DataFrame"
   ]
  },
  {
   "cell_type": "code",
   "execution_count": 75,
   "metadata": {},
   "outputs": [
    {
     "data": {
      "text/html": [
       "<div>\n",
       "<style>\n",
       "    .dataframe thead tr:only-child th {\n",
       "        text-align: right;\n",
       "    }\n",
       "\n",
       "    .dataframe thead th {\n",
       "        text-align: left;\n",
       "    }\n",
       "\n",
       "    .dataframe tbody tr th {\n",
       "        vertical-align: top;\n",
       "    }\n",
       "</style>\n",
       "<table border=\"1\" class=\"dataframe\">\n",
       "  <thead>\n",
       "    <tr style=\"text-align: right;\">\n",
       "      <th></th>\n",
       "      <th>year</th>\n",
       "      <th>state</th>\n",
       "    </tr>\n",
       "  </thead>\n",
       "  <tbody>\n",
       "    <tr>\n",
       "      <th>101</th>\n",
       "      <td>2000</td>\n",
       "      <td>Ohio</td>\n",
       "    </tr>\n",
       "    <tr>\n",
       "      <th>106</th>\n",
       "      <td>2003</td>\n",
       "      <td>Nevada</td>\n",
       "    </tr>\n",
       "  </tbody>\n",
       "</table>\n",
       "</div>"
      ],
      "text/plain": [
       "     year   state\n",
       "101  2000    Ohio\n",
       "106  2003  Nevada"
      ]
     },
     "execution_count": 75,
     "metadata": {},
     "output_type": "execute_result"
    }
   ],
   "source": [
    "# get subset of DataFrame\n",
    "frame.loc[101, 'year']\n",
    "frame.loc[[101, 106], 'year']  # return data in the specified rows and column, as a Series\n",
    "frame.loc[[101, 106], ['year']]  # return the specified rows and column, as a DataFrame\n",
    "frame.loc[[101, 106], ['year','state']]  # return the specified rows and columns, as a DataFrame"
   ]
  },
  {
   "cell_type": "markdown",
   "metadata": {},
   "source": [
    "See [Indexing, Selecting, Filtering](#Indexing,-Selecting,-Filtering) for more on indexing."
   ]
  },
  {
   "cell_type": "code",
   "execution_count": 98,
   "metadata": {},
   "outputs": [
    {
     "name": "stdout",
     "output_type": "stream",
     "text": [
      "==== school_table ====\n",
      "      city_id\n",
      "NCKU      600\n",
      "NCU       200\n",
      "NTHU      300\n",
      "NTU       100\n",
      "==== city_table ====\n",
      "        city_name\n",
      "city_id          \n",
      "100        Taipei\n",
      "200       Taoyuan\n",
      "300       Hsinchu\n",
      "600        Tainan\n"
     ]
    },
    {
     "data": {
      "text/html": [
       "<div>\n",
       "<style>\n",
       "    .dataframe thead tr:only-child th {\n",
       "        text-align: right;\n",
       "    }\n",
       "\n",
       "    .dataframe thead th {\n",
       "        text-align: left;\n",
       "    }\n",
       "\n",
       "    .dataframe tbody tr th {\n",
       "        vertical-align: top;\n",
       "    }\n",
       "</style>\n",
       "<table border=\"1\" class=\"dataframe\">\n",
       "  <thead>\n",
       "    <tr style=\"text-align: right;\">\n",
       "      <th></th>\n",
       "      <th>city_name</th>\n",
       "    </tr>\n",
       "    <tr>\n",
       "      <th>city_id</th>\n",
       "      <th></th>\n",
       "    </tr>\n",
       "  </thead>\n",
       "  <tbody>\n",
       "    <tr>\n",
       "      <th>200</th>\n",
       "      <td>Taoyuan</td>\n",
       "    </tr>\n",
       "  </tbody>\n",
       "</table>\n",
       "</div>"
      ],
      "text/plain": [
       "        city_name\n",
       "city_id          \n",
       "200       Taoyuan"
      ]
     },
     "execution_count": 98,
     "metadata": {},
     "output_type": "execute_result"
    }
   ],
   "source": [
    "# [練習] 執行下列程式碼\n",
    "school_table = pd.DataFrame({'city_id': {'NTU':100, 'NCU':200, 'NTHU':300, 'NCKU':600}})\n",
    "print('==== school_table ====')\n",
    "print(school_table)\n",
    "\n",
    "city_table = pd.DataFrame({'city_name': {100:'Taipei', 200:'Taoyuan', 300:'Hsinchu', 600:'Tainan'}})\n",
    "city_table.index.name = 'city_id'\n",
    "print('==== city_table ====')\n",
    "print(city_table)\n",
    "\n",
    "# 試利用 `school_table` 及 `city_table` 兩個 DataFrame 找出 `NCU` 所對應的 city name. \n",
    "arr = school_table.loc['NCU'].values\n",
    "city_table.loc[arr]"
   ]
  },
  {
   "cell_type": "markdown",
   "metadata": {},
   "source": [
    "### add/modify/delete columns or rows"
   ]
  },
  {
   "cell_type": "code",
   "execution_count": 87,
   "metadata": {},
   "outputs": [
    {
     "name": "stdout",
     "output_type": "stream",
     "text": [
      "101    1.1\n",
      "102    1.2\n",
      "104    0.7\n",
      "115    0.8\n",
      "Name: debt, dtype: float64\n"
     ]
    },
    {
     "data": {
      "text/html": [
       "<div>\n",
       "<style>\n",
       "    .dataframe thead tr:only-child th {\n",
       "        text-align: right;\n",
       "    }\n",
       "\n",
       "    .dataframe thead th {\n",
       "        text-align: left;\n",
       "    }\n",
       "\n",
       "    .dataframe tbody tr th {\n",
       "        vertical-align: top;\n",
       "    }\n",
       "</style>\n",
       "<table border=\"1\" class=\"dataframe\">\n",
       "  <thead>\n",
       "    <tr style=\"text-align: right;\">\n",
       "      <th></th>\n",
       "      <th>year</th>\n",
       "      <th>state</th>\n",
       "      <th>pop</th>\n",
       "      <th>debt</th>\n",
       "    </tr>\n",
       "  </thead>\n",
       "  <tbody>\n",
       "    <tr>\n",
       "      <th>101</th>\n",
       "      <td>2000</td>\n",
       "      <td>Ohio</td>\n",
       "      <td>1.5</td>\n",
       "      <td>1.1</td>\n",
       "    </tr>\n",
       "    <tr>\n",
       "      <th>102</th>\n",
       "      <td>2001</td>\n",
       "      <td>Ohio</td>\n",
       "      <td>1.7</td>\n",
       "      <td>1.2</td>\n",
       "    </tr>\n",
       "    <tr>\n",
       "      <th>103</th>\n",
       "      <td>2002</td>\n",
       "      <td>Ohio</td>\n",
       "      <td>3.6</td>\n",
       "      <td>NaN</td>\n",
       "    </tr>\n",
       "    <tr>\n",
       "      <th>104</th>\n",
       "      <td>2001</td>\n",
       "      <td>Nevada</td>\n",
       "      <td>2.4</td>\n",
       "      <td>0.7</td>\n",
       "    </tr>\n",
       "    <tr>\n",
       "      <th>105</th>\n",
       "      <td>2002</td>\n",
       "      <td>Nevada</td>\n",
       "      <td>2.9</td>\n",
       "      <td>NaN</td>\n",
       "    </tr>\n",
       "    <tr>\n",
       "      <th>106</th>\n",
       "      <td>2003</td>\n",
       "      <td>Nevada</td>\n",
       "      <td>3.2</td>\n",
       "      <td>NaN</td>\n",
       "    </tr>\n",
       "  </tbody>\n",
       "</table>\n",
       "</div>"
      ],
      "text/plain": [
       "     year   state  pop  debt\n",
       "101  2000    Ohio  1.5   1.1\n",
       "102  2001    Ohio  1.7   1.2\n",
       "103  2002    Ohio  3.6   NaN\n",
       "104  2001  Nevada  2.4   0.7\n",
       "105  2002  Nevada  2.9   NaN\n",
       "106  2003  Nevada  3.2   NaN"
      ]
     },
     "execution_count": 87,
     "metadata": {},
     "output_type": "execute_result"
    }
   ],
   "source": [
    "import numpy as np\n",
    "\n",
    "frame['debt'] = np.nan  # column 'debt' will be created if not already exists\n",
    "\n",
    "frame['debt'] = [1.1, 1.2, 1.3, 0.7, 0.8, 0.9]\n",
    "\n",
    "debt_series = pd.Series([1.1, 1.2, 0.7, 0.8], index=[101, 102, 104, 115], name='debt')\n",
    "print(debt_series)\n",
    "frame['debt'] = debt_series\n",
    "\n",
    "frame"
   ]
  },
  {
   "cell_type": "code",
   "execution_count": 90,
   "metadata": {},
   "outputs": [
    {
     "name": "stdout",
     "output_type": "stream",
     "text": [
      "     year   state  pop  debt\n",
      "101  2000    Ohio  1.5   1.1\n",
      "102  2001    Ohio  1.7   1.2\n",
      "103  2002    Ohio  3.6   NaN\n",
      "104  2001  Nevada  2.4   0.7\n",
      "105  2002  Nevada  2.9   NaN\n",
      "106  2003  Nevada  3.2   NaN\n"
     ]
    },
    {
     "data": {
      "text/html": [
       "<div>\n",
       "<style>\n",
       "    .dataframe thead tr:only-child th {\n",
       "        text-align: right;\n",
       "    }\n",
       "\n",
       "    .dataframe thead th {\n",
       "        text-align: left;\n",
       "    }\n",
       "\n",
       "    .dataframe tbody tr th {\n",
       "        vertical-align: top;\n",
       "    }\n",
       "</style>\n",
       "<table border=\"1\" class=\"dataframe\">\n",
       "  <thead>\n",
       "    <tr style=\"text-align: right;\">\n",
       "      <th></th>\n",
       "      <th>year</th>\n",
       "      <th>state</th>\n",
       "      <th>pop</th>\n",
       "      <th>debt</th>\n",
       "      <th>A</th>\n",
       "    </tr>\n",
       "  </thead>\n",
       "  <tbody>\n",
       "    <tr>\n",
       "      <th>101</th>\n",
       "      <td>2000.0</td>\n",
       "      <td>Ohio</td>\n",
       "      <td>1.5</td>\n",
       "      <td>1.1</td>\n",
       "      <td>NaN</td>\n",
       "    </tr>\n",
       "    <tr>\n",
       "      <th>102</th>\n",
       "      <td>2001.0</td>\n",
       "      <td>Ohio</td>\n",
       "      <td>1.7</td>\n",
       "      <td>1.2</td>\n",
       "      <td>NaN</td>\n",
       "    </tr>\n",
       "    <tr>\n",
       "      <th>103</th>\n",
       "      <td>2002.0</td>\n",
       "      <td>Ohio</td>\n",
       "      <td>3.6</td>\n",
       "      <td>NaN</td>\n",
       "      <td>NaN</td>\n",
       "    </tr>\n",
       "    <tr>\n",
       "      <th>104</th>\n",
       "      <td>2001.0</td>\n",
       "      <td>Nevada</td>\n",
       "      <td>2.4</td>\n",
       "      <td>0.7</td>\n",
       "      <td>NaN</td>\n",
       "    </tr>\n",
       "    <tr>\n",
       "      <th>105</th>\n",
       "      <td>2002.0</td>\n",
       "      <td>Nevada</td>\n",
       "      <td>2.9</td>\n",
       "      <td>NaN</td>\n",
       "      <td>NaN</td>\n",
       "    </tr>\n",
       "    <tr>\n",
       "      <th>106</th>\n",
       "      <td>2003.0</td>\n",
       "      <td>Nevada</td>\n",
       "      <td>3.2</td>\n",
       "      <td>NaN</td>\n",
       "      <td>NaN</td>\n",
       "    </tr>\n",
       "    <tr>\n",
       "      <th>108</th>\n",
       "      <td>NaN</td>\n",
       "      <td>NaN</td>\n",
       "      <td>NaN</td>\n",
       "      <td>NaN</td>\n",
       "      <td>100.0</td>\n",
       "    </tr>\n",
       "  </tbody>\n",
       "</table>\n",
       "</div>"
      ],
      "text/plain": [
       "       year   state  pop  debt      A\n",
       "101  2000.0    Ohio  1.5   1.1    NaN\n",
       "102  2001.0    Ohio  1.7   1.2    NaN\n",
       "103  2002.0    Ohio  3.6   NaN    NaN\n",
       "104  2001.0  Nevada  2.4   0.7    NaN\n",
       "105  2002.0  Nevada  2.9   NaN    NaN\n",
       "106  2003.0  Nevada  3.2   NaN    NaN\n",
       "108     NaN     NaN  NaN   NaN  100.0"
      ]
     },
     "execution_count": 90,
     "metadata": {},
     "output_type": "execute_result"
    }
   ],
   "source": [
    "frame1 = frame.copy()\n",
    "print(frame1)\n",
    "\n",
    "frame1.loc[107] = [2000, 'Texas', 3.1, 0.5]   # row 107 will be created if not already exists\n",
    "frame1.loc[108, 'A'] = 100   # row and column will be created if not already exists\n",
    "\n",
    "frame1.drop(107, inplace=True)  # drop a row in-place\n",
    "\n",
    "frame1"
   ]
  },
  {
   "cell_type": "code",
   "execution_count": 92,
   "metadata": {},
   "outputs": [
    {
     "data": {
      "text/plain": [
       "Index(['year', 'state', 'pop', 'debt'], dtype='object')"
      ]
     },
     "execution_count": 92,
     "metadata": {},
     "output_type": "execute_result"
    }
   ],
   "source": [
    "frame['is_eastern'] = (frame.state == 'Ohio')\n",
    "del frame['is_eastern']  # delete column in-place\n",
    "\n",
    "frame.columns"
   ]
  },
  {
   "cell_type": "markdown",
   "metadata": {},
   "source": [
    "See also: [Dropping Entries from an Axis](#Dropping-Entries-from-an-Axis)."
   ]
  },
  {
   "cell_type": "code",
   "execution_count": 94,
   "metadata": {},
   "outputs": [
    {
     "name": "stdout",
     "output_type": "stream",
     "text": [
      "     year   state  pop  debt\n",
      "101  2000    Ohio  1.5   1.1\n",
      "102  2001    Ohio  1.7   1.2\n",
      "103  2002    Ohio  3.6   NaN\n",
      "104  2001  Nevada  2.4   0.7\n",
      "105  2002  Nevada  2.9   NaN\n",
      "106  2003  Nevada  3.2   NaN\n"
     ]
    },
    {
     "data": {
      "text/html": [
       "<div>\n",
       "<style>\n",
       "    .dataframe thead tr:only-child th {\n",
       "        text-align: right;\n",
       "    }\n",
       "\n",
       "    .dataframe thead th {\n",
       "        text-align: left;\n",
       "    }\n",
       "\n",
       "    .dataframe tbody tr th {\n",
       "        vertical-align: top;\n",
       "    }\n",
       "</style>\n",
       "<table border=\"1\" class=\"dataframe\">\n",
       "  <thead>\n",
       "    <tr style=\"text-align: right;\">\n",
       "      <th></th>\n",
       "      <th>year</th>\n",
       "      <th>state</th>\n",
       "      <th>pop</th>\n",
       "      <th>debt</th>\n",
       "    </tr>\n",
       "  </thead>\n",
       "  <tbody>\n",
       "    <tr>\n",
       "      <th>101</th>\n",
       "      <td>2000</td>\n",
       "      <td>Ohio</td>\n",
       "      <td>1.5</td>\n",
       "      <td>1.1</td>\n",
       "    </tr>\n",
       "    <tr>\n",
       "      <th>102</th>\n",
       "      <td>2001</td>\n",
       "      <td>Ohio</td>\n",
       "      <td>1.7</td>\n",
       "      <td>1.2</td>\n",
       "    </tr>\n",
       "    <tr>\n",
       "      <th>103</th>\n",
       "      <td>2002</td>\n",
       "      <td>Ohio</td>\n",
       "      <td>3.6</td>\n",
       "      <td>1.3</td>\n",
       "    </tr>\n",
       "    <tr>\n",
       "      <th>104</th>\n",
       "      <td>2001</td>\n",
       "      <td>Nevada</td>\n",
       "      <td>2.4</td>\n",
       "      <td>0.7</td>\n",
       "    </tr>\n",
       "    <tr>\n",
       "      <th>105</th>\n",
       "      <td>2002</td>\n",
       "      <td>Nevada</td>\n",
       "      <td>2.9</td>\n",
       "      <td>0.8</td>\n",
       "    </tr>\n",
       "    <tr>\n",
       "      <th>106</th>\n",
       "      <td>2003</td>\n",
       "      <td>Nevada</td>\n",
       "      <td>3.2</td>\n",
       "      <td>0.9</td>\n",
       "    </tr>\n",
       "  </tbody>\n",
       "</table>\n",
       "</div>"
      ],
      "text/plain": [
       "     year   state  pop  debt\n",
       "101  2000    Ohio  1.5   1.1\n",
       "102  2001    Ohio  1.7   1.2\n",
       "103  2002    Ohio  3.6   1.3\n",
       "104  2001  Nevada  2.4   0.7\n",
       "105  2002  Nevada  2.9   0.8\n",
       "106  2003  Nevada  3.2   0.9"
      ]
     },
     "execution_count": 94,
     "metadata": {},
     "output_type": "execute_result"
    }
   ],
   "source": [
    "frame1 = frame.copy()\n",
    "print(frame1)\n",
    "frame1.loc[103, 'debt'] = 1.3\n",
    "frame1.loc[[105, 106], 'debt'] = [0.8, 0.9]\n",
    "frame1"
   ]
  },
  {
   "cell_type": "code",
   "execution_count": 99,
   "metadata": {},
   "outputs": [
    {
     "name": "stdout",
     "output_type": "stream",
     "text": [
      "==== school_table ====\n",
      "      city_id\n",
      "NCKU      600\n",
      "NCU       200\n",
      "NTHU      300\n",
      "NTU       100\n",
      "==== city_table ====\n",
      "        city_name\n",
      "city_id          \n",
      "100        Taipei\n",
      "200       Taoyuan\n",
      "300       Hsinchu\n",
      "600        Tainan\n"
     ]
    },
    {
     "data": {
      "text/html": [
       "<div>\n",
       "<style>\n",
       "    .dataframe thead tr:only-child th {\n",
       "        text-align: right;\n",
       "    }\n",
       "\n",
       "    .dataframe thead th {\n",
       "        text-align: left;\n",
       "    }\n",
       "\n",
       "    .dataframe tbody tr th {\n",
       "        vertical-align: top;\n",
       "    }\n",
       "</style>\n",
       "<table border=\"1\" class=\"dataframe\">\n",
       "  <thead>\n",
       "    <tr style=\"text-align: right;\">\n",
       "      <th></th>\n",
       "      <th>city_id</th>\n",
       "    </tr>\n",
       "  </thead>\n",
       "  <tbody>\n",
       "    <tr>\n",
       "      <th>NCKU</th>\n",
       "      <td>900</td>\n",
       "    </tr>\n",
       "    <tr>\n",
       "      <th>NCU</th>\n",
       "      <td>200</td>\n",
       "    </tr>\n",
       "    <tr>\n",
       "      <th>NTHU</th>\n",
       "      <td>300</td>\n",
       "    </tr>\n",
       "    <tr>\n",
       "      <th>NTU</th>\n",
       "      <td>100</td>\n",
       "    </tr>\n",
       "  </tbody>\n",
       "</table>\n",
       "</div>"
      ],
      "text/plain": [
       "      city_id\n",
       "NCKU      900\n",
       "NCU       200\n",
       "NTHU      300\n",
       "NTU       100"
      ]
     },
     "execution_count": 99,
     "metadata": {},
     "output_type": "execute_result"
    }
   ],
   "source": [
    "# [練習] 利用前一個練習的 school_table 和 city_table\n",
    "# 1. 請對 school_table 新增一筆資料: NCTU, city_id: 300\n",
    "# 2. 請把 Hsinchu, NTHU, NCTU 的 city_id 改成 301\n",
    "\n",
    "print('==== school_table ====')\n",
    "print(school_table)\n",
    "\n",
    "print('==== city_table ====')\n",
    "print(city_table)\n",
    "\n",
    "school_table.loc['NCKU'] = 900\n",
    "school_table"
   ]
  },
  {
   "cell_type": "code",
   "execution_count": 107,
   "metadata": {},
   "outputs": [
    {
     "data": {
      "text/plain": [
       "0    1.0\n",
       "1    2.0\n",
       "2   -1.0\n",
       "3    4.0\n",
       "dtype: float64"
      ]
     },
     "execution_count": 107,
     "metadata": {},
     "output_type": "execute_result"
    }
   ],
   "source": [
    "s = pd.Series([1,2,np.nan,4])\n",
    "\n",
    "s.dropna()\n",
    "s.fillna(-1)"
   ]
  },
  {
   "cell_type": "markdown",
   "metadata": {},
   "source": [
    "### transpose"
   ]
  },
  {
   "cell_type": "code",
   "execution_count": 109,
   "metadata": {},
   "outputs": [
    {
     "name": "stdout",
     "output_type": "stream",
     "text": [
      "     year   state  pop  debt\n",
      "101  2000    Ohio  1.5   1.1\n",
      "102  2001    Ohio  1.7   1.2\n",
      "103  2002    Ohio  3.6   NaN\n",
      "104  2001  Nevada  2.4   0.7\n",
      "105  2002  Nevada  2.9   NaN\n",
      "106  2003  Nevada  3.2   NaN\n"
     ]
    },
    {
     "data": {
      "text/html": [
       "<div>\n",
       "<style>\n",
       "    .dataframe thead tr:only-child th {\n",
       "        text-align: right;\n",
       "    }\n",
       "\n",
       "    .dataframe thead th {\n",
       "        text-align: left;\n",
       "    }\n",
       "\n",
       "    .dataframe tbody tr th {\n",
       "        vertical-align: top;\n",
       "    }\n",
       "</style>\n",
       "<table border=\"1\" class=\"dataframe\">\n",
       "  <thead>\n",
       "    <tr style=\"text-align: right;\">\n",
       "      <th></th>\n",
       "      <th>101</th>\n",
       "      <th>102</th>\n",
       "      <th>103</th>\n",
       "      <th>104</th>\n",
       "      <th>105</th>\n",
       "      <th>106</th>\n",
       "    </tr>\n",
       "  </thead>\n",
       "  <tbody>\n",
       "    <tr>\n",
       "      <th>year</th>\n",
       "      <td>2000</td>\n",
       "      <td>2001</td>\n",
       "      <td>2002</td>\n",
       "      <td>2001</td>\n",
       "      <td>2002</td>\n",
       "      <td>2003</td>\n",
       "    </tr>\n",
       "    <tr>\n",
       "      <th>state</th>\n",
       "      <td>Ohio</td>\n",
       "      <td>Ohio</td>\n",
       "      <td>Ohio</td>\n",
       "      <td>Nevada</td>\n",
       "      <td>Nevada</td>\n",
       "      <td>Nevada</td>\n",
       "    </tr>\n",
       "    <tr>\n",
       "      <th>pop</th>\n",
       "      <td>1.5</td>\n",
       "      <td>1.7</td>\n",
       "      <td>3.6</td>\n",
       "      <td>2.4</td>\n",
       "      <td>2.9</td>\n",
       "      <td>3.2</td>\n",
       "    </tr>\n",
       "    <tr>\n",
       "      <th>debt</th>\n",
       "      <td>1.1</td>\n",
       "      <td>1.2</td>\n",
       "      <td>NaN</td>\n",
       "      <td>0.7</td>\n",
       "      <td>NaN</td>\n",
       "      <td>NaN</td>\n",
       "    </tr>\n",
       "  </tbody>\n",
       "</table>\n",
       "</div>"
      ],
      "text/plain": [
       "        101   102   103     104     105     106\n",
       "year   2000  2001  2002    2001    2002    2003\n",
       "state  Ohio  Ohio  Ohio  Nevada  Nevada  Nevada\n",
       "pop     1.5   1.7   3.6     2.4     2.9     3.2\n",
       "debt    1.1   1.2   NaN     0.7     NaN     NaN"
      ]
     },
     "execution_count": 109,
     "metadata": {},
     "output_type": "execute_result"
    }
   ],
   "source": [
    "print(frame)\n",
    "frame2 = frame.T  # return a new DataFrame\n",
    "frame2"
   ]
  },
  {
   "cell_type": "markdown",
   "metadata": {},
   "source": [
    "## Index Objects"
   ]
  },
  {
   "cell_type": "code",
   "execution_count": 111,
   "metadata": {},
   "outputs": [
    {
     "data": {
      "text/plain": [
       "a    0\n",
       "a    3\n",
       "dtype: int64"
      ]
     },
     "execution_count": 111,
     "metadata": {},
     "output_type": "execute_result"
    }
   ],
   "source": [
    "ind = pd.Index(['a', 'b', 'c', 'a'])  # an Index object (can contain duplicate elements)\n",
    "s = pd.Series(range(4), index=ind)\n",
    "\n",
    "ind[0]  # 'a'\n",
    "ind[0:2]  # Index(['a', 'b'], dtype='object')\n",
    "#ind[1] = 'B'  # error. Index objects are immutable.\n",
    "\n",
    "'c' in ind  # True\n",
    "\n",
    "ind.values\n",
    "\n",
    "# selection with duplicate index elements will select all occurrences:\n",
    "s['a']  # a  0\n",
    "        # a  3"
   ]
  },
  {
   "cell_type": "markdown",
   "metadata": {},
   "source": [
    "*Note*. Index objects are immutable."
   ]
  },
  {
   "cell_type": "markdown",
   "metadata": {},
   "source": [
    "### methods/attributes of Index"
   ]
  },
  {
   "cell_type": "code",
   "execution_count": 115,
   "metadata": {},
   "outputs": [
    {
     "data": {
      "text/plain": [
       "Index(['a', 'b', 'c'], dtype='object')"
      ]
     },
     "execution_count": 115,
     "metadata": {},
     "output_type": "execute_result"
    }
   ],
   "source": [
    "ind = pd.Index(['a', 'b', 'c'])\n",
    "ind2 = pd.Index(['x', 'y', 'a'])\n",
    "\n",
    "# each of the following methods returns a new Index\n",
    "ind.append(ind2)  \n",
    "ind.insert(1, 'aa')  # insert at position 1\n",
    "\n",
    "ind.delete(2)\n",
    "ind.drop('a')\n",
    "\n",
    "ind.union(ind2)\n",
    "ind.intersection(ind2)\n",
    "ind.difference(ind2)\n",
    "\n",
    "#\n",
    "#print(ind)\n",
    "ind.isin(['c', 'd', 'e'])  # returns an array\n",
    "ind.is_monotonic  # True\n",
    "ind.is_unique  # are elements unique?\n",
    "\n",
    "#\n",
    "ind = pd.Index(['a', 'b', 'c', 'c'])\n",
    "ind.is_unique  # False\n",
    "ind.unique()  # returns a new Index containing unique elements"
   ]
  },
  {
   "cell_type": "markdown",
   "metadata": {},
   "source": [
    "# Essential Funcionality\n",
    "## Reindexing\n",
    "* Reindexing Series:"
   ]
  },
  {
   "cell_type": "code",
   "execution_count": 116,
   "metadata": {},
   "outputs": [
    {
     "data": {
      "text/plain": [
       "a    4.2\n",
       "x   -1.6\n",
       "c    6.3\n",
       "dtype: float64"
      ]
     },
     "execution_count": 116,
     "metadata": {},
     "output_type": "execute_result"
    }
   ],
   "source": [
    "s = pd.Series([4.2, -1.6, 6.3], index=['a', 'x', 'c'])\n",
    "s"
   ]
  },
  {
   "cell_type": "code",
   "execution_count": 122,
   "metadata": {},
   "outputs": [
    {
     "data": {
      "text/plain": [
       "a   NaN\n",
       "b   NaN\n",
       "c   NaN\n",
       "dtype: float64"
      ]
     },
     "execution_count": 122,
     "metadata": {},
     "output_type": "execute_result"
    }
   ],
   "source": [
    "s1 = s.reindex(['a', 'b', 'c'])  # reindexing, creating new Series (the index of `s` must have unique labels)\n",
    "# s1 = s.reindex(['a', 'b', 'c'], method='ffill') ????\n",
    "s1"
   ]
  },
  {
   "cell_type": "code",
   "execution_count": 120,
   "metadata": {},
   "outputs": [
    {
     "name": "stdout",
     "output_type": "stream",
     "text": [
      "0    10\n",
      "2    12\n",
      "4    14\n",
      "dtype: int64\n"
     ]
    },
    {
     "data": {
      "text/plain": [
       "0    10\n",
       "1    10\n",
       "2    12\n",
       "3    12\n",
       "4    14\n",
       "dtype: int64"
      ]
     },
     "execution_count": 120,
     "metadata": {},
     "output_type": "execute_result"
    }
   ],
   "source": [
    "# reindexing with filling\n",
    "s = pd.Series([10, 12, 14], index=[0, 2, 4])\n",
    "print(s)\n",
    "s1 = s.reindex([0,1,2,3,4], method='ffill')  # forward filling\n",
    "s1"
   ]
  },
  {
   "cell_type": "markdown",
   "metadata": {},
   "source": [
    "* Reindxing DataFrame:"
   ]
  },
  {
   "cell_type": "code",
   "execution_count": 44,
   "metadata": {},
   "outputs": [
    {
     "name": "stdout",
     "output_type": "stream",
     "text": [
      "   Ohio  Texas  California\n",
      "a     0      1           2\n",
      "c     3      4           5\n",
      "d     6      7           8\n"
     ]
    },
    {
     "data": {
      "text/html": [
       "<div>\n",
       "<style>\n",
       "    .dataframe thead tr:only-child th {\n",
       "        text-align: right;\n",
       "    }\n",
       "\n",
       "    .dataframe thead th {\n",
       "        text-align: left;\n",
       "    }\n",
       "\n",
       "    .dataframe tbody tr th {\n",
       "        vertical-align: top;\n",
       "    }\n",
       "</style>\n",
       "<table border=\"1\" class=\"dataframe\">\n",
       "  <thead>\n",
       "    <tr style=\"text-align: right;\">\n",
       "      <th></th>\n",
       "      <th>Ohio</th>\n",
       "      <th>Texas</th>\n",
       "      <th>California</th>\n",
       "    </tr>\n",
       "  </thead>\n",
       "  <tbody>\n",
       "    <tr>\n",
       "      <th>a</th>\n",
       "      <td>0.0</td>\n",
       "      <td>1.0</td>\n",
       "      <td>2.0</td>\n",
       "    </tr>\n",
       "    <tr>\n",
       "      <th>b</th>\n",
       "      <td>NaN</td>\n",
       "      <td>NaN</td>\n",
       "      <td>NaN</td>\n",
       "    </tr>\n",
       "    <tr>\n",
       "      <th>c</th>\n",
       "      <td>3.0</td>\n",
       "      <td>4.0</td>\n",
       "      <td>5.0</td>\n",
       "    </tr>\n",
       "    <tr>\n",
       "      <th>d</th>\n",
       "      <td>6.0</td>\n",
       "      <td>7.0</td>\n",
       "      <td>8.0</td>\n",
       "    </tr>\n",
       "  </tbody>\n",
       "</table>\n",
       "</div>"
      ],
      "text/plain": [
       "   Ohio  Texas  California\n",
       "a   0.0    1.0         2.0\n",
       "b   NaN    NaN         NaN\n",
       "c   3.0    4.0         5.0\n",
       "d   6.0    7.0         8.0"
      ]
     },
     "execution_count": 44,
     "metadata": {},
     "output_type": "execute_result"
    }
   ],
   "source": [
    "import numpy as np\n",
    "frame = pd.DataFrame(np.arange(9).reshape(3,3),\n",
    "                     index=['a','c','d'],\n",
    "                     columns=['Ohio', 'Texas','California'])\n",
    "print(frame)\n",
    "frame2 = frame.reindex(index=['a','b','c','d'])  # reindexing rows\n",
    "frame2"
   ]
  },
  {
   "cell_type": "code",
   "execution_count": 110,
   "metadata": {},
   "outputs": [
    {
     "data": {
      "text/html": [
       "<div>\n",
       "<style scoped>\n",
       "    .dataframe tbody tr th:only-of-type {\n",
       "        vertical-align: middle;\n",
       "    }\n",
       "\n",
       "    .dataframe tbody tr th {\n",
       "        vertical-align: top;\n",
       "    }\n",
       "\n",
       "    .dataframe thead th {\n",
       "        text-align: right;\n",
       "    }\n",
       "</style>\n",
       "<table border=\"1\" class=\"dataframe\">\n",
       "  <thead>\n",
       "    <tr style=\"text-align: right;\">\n",
       "      <th></th>\n",
       "      <th>Texas</th>\n",
       "      <th>Utah</th>\n",
       "      <th>California</th>\n",
       "    </tr>\n",
       "  </thead>\n",
       "  <tbody>\n",
       "    <tr>\n",
       "      <th>a</th>\n",
       "      <td>1</td>\n",
       "      <td>NaN</td>\n",
       "      <td>2</td>\n",
       "    </tr>\n",
       "    <tr>\n",
       "      <th>c</th>\n",
       "      <td>4</td>\n",
       "      <td>NaN</td>\n",
       "      <td>5</td>\n",
       "    </tr>\n",
       "    <tr>\n",
       "      <th>d</th>\n",
       "      <td>7</td>\n",
       "      <td>NaN</td>\n",
       "      <td>8</td>\n",
       "    </tr>\n",
       "  </tbody>\n",
       "</table>\n",
       "</div>"
      ],
      "text/plain": [
       "   Texas  Utah  California\n",
       "a      1   NaN           2\n",
       "c      4   NaN           5\n",
       "d      7   NaN           8"
      ]
     },
     "execution_count": 110,
     "metadata": {},
     "output_type": "execute_result"
    }
   ],
   "source": [
    "frame2 = frame.reindex(columns=['Texas','Utah','California'])  # reindexing columns\n",
    "frame2"
   ]
  },
  {
   "cell_type": "markdown",
   "metadata": {},
   "source": [
    "[練習] 試試看 reindex 時，同時指定想要選取的 rows 和 columns"
   ]
  },
  {
   "cell_type": "markdown",
   "metadata": {},
   "source": [
    "## Dropping Entries from an Axis"
   ]
  },
  {
   "cell_type": "code",
   "execution_count": 135,
   "metadata": {},
   "outputs": [
    {
     "name": "stdout",
     "output_type": "stream",
     "text": [
      "a    0.0\n",
      "b    1.0\n",
      "c    2.0\n",
      "dtype: float64\n"
     ]
    }
   ],
   "source": [
    "s = pd.Series(np.arange(0.0,2.01), index=['a','b','c'])\n",
    "print(s)\n",
    "\n",
    "s1 = s.drop('b')\n",
    "s1.drop('a', inplace=True)  # modifying in-place. Use with care!"
   ]
  },
  {
   "cell_type": "code",
   "execution_count": 48,
   "metadata": {},
   "outputs": [
    {
     "name": "stdout",
     "output_type": "stream",
     "text": [
      "   Ohio  Texas  California\n",
      "a     0      1           2\n",
      "c     3      4           5\n",
      "d     6      7           8\n"
     ]
    }
   ],
   "source": [
    "frame = pd.DataFrame(np.arange(9).reshape(3,3),\n",
    "                     index=['a','c','d'],\n",
    "                     columns=['Ohio', 'Texas','California'])\n",
    "print(frame)\n",
    "\n",
    "frame2 = frame.drop('d')  # drop a row\n",
    "frame2 = frame.drop(['c','d'])  # drop rows\n",
    "\n",
    "frame2 = frame.drop('Texas', axis=1)  # drop a column\n",
    "\n",
    "frame2.drop('a', inplace=True)  # modifying in-place. Use with care!"
   ]
  },
  {
   "cell_type": "markdown",
   "metadata": {},
   "source": [
    "## Indexing, Selecting, Filtering\n",
    "### Series"
   ]
  },
  {
   "cell_type": "code",
   "execution_count": 61,
   "metadata": {},
   "outputs": [
    {
     "name": "stdout",
     "output_type": "stream",
     "text": [
      "a    0.5\n",
      "b    1.5\n",
      "d    2.5\n",
      "c    3.5\n",
      "dtype: float64\n"
     ]
    }
   ],
   "source": [
    "# Series indexing\n",
    "s = pd.Series(np.arange(0.5,3.51), index=['a','b','d','c'])\n",
    "print(s)\n",
    "\n",
    "v = s['a']  # 0.5\n",
    "v = s[1]  # 1.5  (buggy?)\n",
    "v = s.iloc[1]  # 1.5\n",
    "\n",
    "s1 = s[['c','d']]   # c  3.5\n",
    "                    # d  2.5\n",
    "s1 = s[s < 2.0]  # a  0.5\n",
    "                 # b  1.5\n",
    "\n",
    "# slicing with position    \n",
    "s1 = s[2:4]  # d  2.5  # returns a view\n",
    "             # c  3.5\n",
    "    \n",
    "# slicing with index values (Note. Endpoint is inclusive!)\n",
    "s1 = s['b':'c']  # b   1.5   # returns a view\n",
    "                 # d   2.5\n",
    "                 # c   3.5        "
   ]
  },
  {
   "cell_type": "code",
   "execution_count": 62,
   "metadata": {},
   "outputs": [
    {
     "name": "stdout",
     "output_type": "stream",
     "text": [
      "1    0.5\n",
      "2    1.5\n",
      "3    2.5\n",
      "4    3.5\n",
      "dtype: float64\n",
      "1.5\n"
     ]
    }
   ],
   "source": [
    "s = pd.Series(np.arange(0.5,3.51), index=[1,2,3,4])\n",
    "print(s)\n",
    "\n",
    "v = s[2]  # 1.5  # 2 interpreted as labels\n",
    "v = s.iloc[2]\n",
    "\n",
    "s1 = s[[2,3]] # 2  1.5  # [2,3] interpreted as labels\n",
    "              # 3  2.5\n",
    "\n",
    "s1 = s[2:4]  # 3  2.5  # [2:4] interpreted as positions\n",
    "             # 4  3.5"
   ]
  },
  {
   "cell_type": "markdown",
   "metadata": {},
   "source": [
    "*Notes*. \n",
    "* slicing with integers: by position, even if the labels are integers\n",
    "* slicing with non-numeric labels: by labels, endpoint included"
   ]
  },
  {
   "cell_type": "code",
   "execution_count": 127,
   "metadata": {},
   "outputs": [
    {
     "name": "stdout",
     "output_type": "stream",
     "text": [
      "a    0.5\n",
      "e    1.5\n",
      "x    2.5\n",
      "dtype: float64\n",
      "\n",
      "a   -1.0\n",
      "e    NaN\n",
      "x    2.5\n",
      "dtype: float64\n",
      "\n",
      "a    0.0\n",
      "e    NaN\n",
      "x    2.5\n",
      "dtype: float64\n"
     ]
    }
   ],
   "source": [
    "# setting with selection\n",
    "s = pd.Series(np.arange(0.5,2.51), index=['a','e','x'])\n",
    "print(s)\n",
    "print('')\n",
    "\n",
    "s['a','e'] = [-1, -2]\n",
    "s['a','e'] = pd.Series({'a':-1, 'e':-2})\n",
    "print(s)\n",
    "print('')\n",
    "\n",
    "s[s < 0] = 0\n",
    "print(s)"
   ]
  },
  {
   "cell_type": "markdown",
   "metadata": {},
   "source": [
    "### DataFrame"
   ]
  },
  {
   "cell_type": "code",
   "execution_count": 92,
   "metadata": {},
   "outputs": [
    {
     "data": {
      "text/html": [
       "<div>\n",
       "<style>\n",
       "    .dataframe thead tr:only-child th {\n",
       "        text-align: right;\n",
       "    }\n",
       "\n",
       "    .dataframe thead th {\n",
       "        text-align: left;\n",
       "    }\n",
       "\n",
       "    .dataframe tbody tr th {\n",
       "        vertical-align: top;\n",
       "    }\n",
       "</style>\n",
       "<table border=\"1\" class=\"dataframe\">\n",
       "  <thead>\n",
       "    <tr style=\"text-align: right;\">\n",
       "      <th></th>\n",
       "      <th>one</th>\n",
       "      <th>two</th>\n",
       "      <th>three</th>\n",
       "    </tr>\n",
       "  </thead>\n",
       "  <tbody>\n",
       "    <tr>\n",
       "      <th>Colorado</th>\n",
       "      <td>0.0</td>\n",
       "      <td>1.0</td>\n",
       "      <td>2.0</td>\n",
       "    </tr>\n",
       "    <tr>\n",
       "      <th>Texas</th>\n",
       "      <td>3.0</td>\n",
       "      <td>4.0</td>\n",
       "      <td>5.0</td>\n",
       "    </tr>\n",
       "    <tr>\n",
       "      <th>California</th>\n",
       "      <td>6.0</td>\n",
       "      <td>7.0</td>\n",
       "      <td>8.0</td>\n",
       "    </tr>\n",
       "  </tbody>\n",
       "</table>\n",
       "</div>"
      ],
      "text/plain": [
       "            one  two  three\n",
       "Colorado    0.0  1.0    2.0\n",
       "Texas       3.0  4.0    5.0\n",
       "California  6.0  7.0    8.0"
      ]
     },
     "execution_count": 92,
     "metadata": {},
     "output_type": "execute_result"
    }
   ],
   "source": [
    "frame = pd.DataFrame(np.arange(0.0,8.01).reshape(3,3),\n",
    "                     columns=['one','two','three'],\n",
    "                     index=['Colorado', 'Texas','California'])\n",
    "frame"
   ]
  },
  {
   "cell_type": "code",
   "execution_count": 97,
   "metadata": {},
   "outputs": [
    {
     "data": {
      "text/html": [
       "<div>\n",
       "<style>\n",
       "    .dataframe thead tr:only-child th {\n",
       "        text-align: right;\n",
       "    }\n",
       "\n",
       "    .dataframe thead th {\n",
       "        text-align: left;\n",
       "    }\n",
       "\n",
       "    .dataframe tbody tr th {\n",
       "        vertical-align: top;\n",
       "    }\n",
       "</style>\n",
       "<table border=\"1\" class=\"dataframe\">\n",
       "  <thead>\n",
       "    <tr style=\"text-align: right;\">\n",
       "      <th></th>\n",
       "      <th>one</th>\n",
       "      <th>two</th>\n",
       "      <th>three</th>\n",
       "    </tr>\n",
       "  </thead>\n",
       "  <tbody>\n",
       "    <tr>\n",
       "      <th>Texas</th>\n",
       "      <td>3.0</td>\n",
       "      <td>4.0</td>\n",
       "      <td>5.0</td>\n",
       "    </tr>\n",
       "    <tr>\n",
       "      <th>California</th>\n",
       "      <td>6.0</td>\n",
       "      <td>7.0</td>\n",
       "      <td>8.0</td>\n",
       "    </tr>\n",
       "  </tbody>\n",
       "</table>\n",
       "</div>"
      ],
      "text/plain": [
       "            one  two  three\n",
       "Texas       3.0  4.0    5.0\n",
       "California  6.0  7.0    8.0"
      ]
     },
     "execution_count": 97,
     "metadata": {},
     "output_type": "execute_result"
    }
   ],
   "source": [
    "# select columns\n",
    "frame['one']  # select a column\n",
    "frame[['two','three']]  # select columns\n",
    "\n",
    "# select rows\n",
    "frame[0:2]  # select rows\n",
    "frame[frame['one'] > 1.0]  # select rows\n",
    "\n",
    "frame.loc['Colorado']  # select a row\n",
    "frame.loc[['Colorado', 'Texas']]  # select rows\n",
    "frame.iloc[0:2]\n",
    "frame.loc[frame['one'] > 1.0]\n",
    "\n",
    "# select rows and columns\n",
    "frame.loc[['Colorado', 'Texas'], ['one','two']]  # select by rows and columns"
   ]
  },
  {
   "cell_type": "code",
   "execution_count": 37,
   "metadata": {},
   "outputs": [
    {
     "data": {
      "text/html": [
       "<div>\n",
       "<style scoped>\n",
       "    .dataframe tbody tr th:only-of-type {\n",
       "        vertical-align: middle;\n",
       "    }\n",
       "\n",
       "    .dataframe tbody tr th {\n",
       "        vertical-align: top;\n",
       "    }\n",
       "\n",
       "    .dataframe thead th {\n",
       "        text-align: right;\n",
       "    }\n",
       "</style>\n",
       "<table border=\"1\" class=\"dataframe\">\n",
       "  <thead>\n",
       "    <tr style=\"text-align: right;\">\n",
       "      <th></th>\n",
       "      <th>one</th>\n",
       "      <th>two</th>\n",
       "      <th>three</th>\n",
       "    </tr>\n",
       "  </thead>\n",
       "  <tbody>\n",
       "    <tr>\n",
       "      <th>Colorado</th>\n",
       "      <td>3.0</td>\n",
       "      <td>3.0</td>\n",
       "      <td>3.0</td>\n",
       "    </tr>\n",
       "    <tr>\n",
       "      <th>Texas</th>\n",
       "      <td>3.0</td>\n",
       "      <td>4.0</td>\n",
       "      <td>5.0</td>\n",
       "    </tr>\n",
       "    <tr>\n",
       "      <th>California</th>\n",
       "      <td>6.0</td>\n",
       "      <td>7.0</td>\n",
       "      <td>8.0</td>\n",
       "    </tr>\n",
       "  </tbody>\n",
       "</table>\n",
       "</div>"
      ],
      "text/plain": [
       "            one  two  three\n",
       "Colorado    3.0  3.0    3.0\n",
       "Texas       3.0  4.0    5.0\n",
       "California  6.0  7.0    8.0"
      ]
     },
     "execution_count": 37,
     "metadata": {},
     "output_type": "execute_result"
    }
   ],
   "source": [
    "frame[frame < 3.0] = 3.0\n",
    "frame"
   ]
  },
  {
   "cell_type": "markdown",
   "metadata": {},
   "source": [
    "### selection with loc & iloc"
   ]
  },
  {
   "cell_type": "code",
   "execution_count": null,
   "metadata": {
    "collapsed": true
   },
   "outputs": [],
   "source": [
    "s = pd.Series([0.5,1.5,2.5], index=['a','e','x'])\n",
    "print(s)\n",
    "\n",
    "s.loc['a']  # 0.5\n",
    "s.iloc[0]  # same\n",
    "\n",
    "s.loc['e':'x']  # e  1.5   # 'x' included\n",
    "                # x  2.5  \n",
    "s.iloc[1:3]  # position 3 is NOT included"
   ]
  },
  {
   "cell_type": "code",
   "execution_count": 44,
   "metadata": {},
   "outputs": [
    {
     "data": {
      "text/html": [
       "<div>\n",
       "<style scoped>\n",
       "    .dataframe tbody tr th:only-of-type {\n",
       "        vertical-align: middle;\n",
       "    }\n",
       "\n",
       "    .dataframe tbody tr th {\n",
       "        vertical-align: top;\n",
       "    }\n",
       "\n",
       "    .dataframe thead th {\n",
       "        text-align: right;\n",
       "    }\n",
       "</style>\n",
       "<table border=\"1\" class=\"dataframe\">\n",
       "  <thead>\n",
       "    <tr style=\"text-align: right;\">\n",
       "      <th></th>\n",
       "      <th>one</th>\n",
       "      <th>two</th>\n",
       "      <th>three</th>\n",
       "    </tr>\n",
       "  </thead>\n",
       "  <tbody>\n",
       "    <tr>\n",
       "      <th>Colorado</th>\n",
       "      <td>0.0</td>\n",
       "      <td>1.0</td>\n",
       "      <td>2.0</td>\n",
       "    </tr>\n",
       "    <tr>\n",
       "      <th>Texas</th>\n",
       "      <td>3.0</td>\n",
       "      <td>4.0</td>\n",
       "      <td>5.0</td>\n",
       "    </tr>\n",
       "    <tr>\n",
       "      <th>California</th>\n",
       "      <td>6.0</td>\n",
       "      <td>7.0</td>\n",
       "      <td>8.0</td>\n",
       "    </tr>\n",
       "  </tbody>\n",
       "</table>\n",
       "</div>"
      ],
      "text/plain": [
       "            one  two  three\n",
       "Colorado    0.0  1.0    2.0\n",
       "Texas       3.0  4.0    5.0\n",
       "California  6.0  7.0    8.0"
      ]
     },
     "execution_count": 44,
     "metadata": {},
     "output_type": "execute_result"
    }
   ],
   "source": [
    "frame = pd.DataFrame(np.arange(0.0,8.01).reshape(3,3),\n",
    "                     columns=['one','two','three'],\n",
    "                     index=['Colorado', 'Texas','California'])\n",
    "frame"
   ]
  },
  {
   "cell_type": "code",
   "execution_count": 98,
   "metadata": {},
   "outputs": [
    {
     "data": {
      "text/plain": [
       "one    0.0\n",
       "two    1.0\n",
       "Name: Colorado, dtype: float64"
      ]
     },
     "execution_count": 98,
     "metadata": {},
     "output_type": "execute_result"
    }
   ],
   "source": [
    "frame.loc['Colorado', ['one', 'two']]\n",
    "frame.iloc[0, [0,1]]"
   ]
  },
  {
   "cell_type": "code",
   "execution_count": 100,
   "metadata": {},
   "outputs": [
    {
     "data": {
      "text/plain": [
       "one      0.0\n",
       "two      1.0\n",
       "three    2.0\n",
       "Name: Colorado, dtype: float64"
      ]
     },
     "execution_count": 100,
     "metadata": {},
     "output_type": "execute_result"
    }
   ],
   "source": [
    "frame.loc['California', 'one':'three']  # 'two' is included\n",
    "frame.iloc[0, :3]  # position 3 is NOT included"
   ]
  },
  {
   "cell_type": "code",
   "execution_count": 126,
   "metadata": {},
   "outputs": [
    {
     "name": "stdout",
     "output_type": "stream",
     "text": [
      "emp_id\n",
      "101    41000.0\n",
      "102    48000.0\n",
      "103    13000.0\n",
      "104    41000.0\n",
      "105    82000.0\n",
      "106    34000.0\n",
      "107    69000.0\n",
      "108    58000.0\n",
      "109     8000.0\n",
      "110    19000.0\n",
      "Name: salary, dtype: float64\n"
     ]
    },
    {
     "data": {
      "text/plain": [
       "emp_id\n",
       "101    41000.0\n",
       "102    48000.0\n",
       "103    13500.0\n",
       "104    41500.0\n",
       "105    82000.0\n",
       "106    34000.0\n",
       "107    69500.0\n",
       "108    58000.0\n",
       "109     8500.0\n",
       "110    19000.0\n",
       "Name: salary, dtype: float64"
      ]
     },
     "execution_count": 126,
     "metadata": {},
     "output_type": "execute_result"
    }
   ],
   "source": [
    "# [練習]\n",
    "s = pd.Series(np.rint(np.random.rand(10)*100)*1000, index=range(101,111))\n",
    "s.name = 'salary'\n",
    "s.index.name = 'emp_id'\n",
    "print(s)\n",
    "\n",
    "ids = [103,104,107,109]\n",
    "# 請建立另一個 Series, 與 `s` 相同，但 emp_id 被包含在 ids 裡的資料數值 被加上 500\n",
    "\n",
    "s1 = s.copy()\n",
    "s1[ids] = s[ids] + 500\n",
    "s1"
   ]
  },
  {
   "cell_type": "markdown",
   "metadata": {},
   "source": [
    "## Function Application and Mapping"
   ]
  },
  {
   "cell_type": "code",
   "execution_count": 127,
   "metadata": {},
   "outputs": [
    {
     "name": "stdout",
     "output_type": "stream",
     "text": [
      "             one   two  three\n",
      "Colorado    1.21 -0.87  -1.31\n",
      "Texas      -0.06 -0.02   0.93\n",
      "California  0.48 -0.87   0.70\n"
     ]
    },
    {
     "data": {
      "text/html": [
       "<div>\n",
       "<style>\n",
       "    .dataframe thead tr:only-child th {\n",
       "        text-align: right;\n",
       "    }\n",
       "\n",
       "    .dataframe thead th {\n",
       "        text-align: left;\n",
       "    }\n",
       "\n",
       "    .dataframe tbody tr th {\n",
       "        vertical-align: top;\n",
       "    }\n",
       "</style>\n",
       "<table border=\"1\" class=\"dataframe\">\n",
       "  <thead>\n",
       "    <tr style=\"text-align: right;\">\n",
       "      <th></th>\n",
       "      <th>one</th>\n",
       "      <th>two</th>\n",
       "      <th>three</th>\n",
       "    </tr>\n",
       "  </thead>\n",
       "  <tbody>\n",
       "    <tr>\n",
       "      <th>Colorado</th>\n",
       "      <td>1.21</td>\n",
       "      <td>0.87</td>\n",
       "      <td>1.31</td>\n",
       "    </tr>\n",
       "    <tr>\n",
       "      <th>Texas</th>\n",
       "      <td>0.06</td>\n",
       "      <td>0.02</td>\n",
       "      <td>0.93</td>\n",
       "    </tr>\n",
       "    <tr>\n",
       "      <th>California</th>\n",
       "      <td>0.48</td>\n",
       "      <td>0.87</td>\n",
       "      <td>0.70</td>\n",
       "    </tr>\n",
       "  </tbody>\n",
       "</table>\n",
       "</div>"
      ],
      "text/plain": [
       "             one   two  three\n",
       "Colorado    1.21  0.87   1.31\n",
       "Texas       0.06  0.02   0.93\n",
       "California  0.48  0.87   0.70"
      ]
     },
     "execution_count": 127,
     "metadata": {},
     "output_type": "execute_result"
    }
   ],
   "source": [
    "# using NumPy ufuncs (element-wise array methods)\n",
    "frame = pd.DataFrame(np.round(np.random.randn(3,3), 2),\n",
    "                     columns=['one','two','three'],\n",
    "                     index=['Colorado', 'Texas','California'])\n",
    "print(frame)\n",
    "\n",
    "np.fabs(frame)"
   ]
  },
  {
   "cell_type": "code",
   "execution_count": 129,
   "metadata": {},
   "outputs": [
    {
     "data": {
      "text/plain": [
       "one      0.543333\n",
       "two     -0.586667\n",
       "three    0.106667\n",
       "dtype: float64"
      ]
     },
     "execution_count": 129,
     "metadata": {},
     "output_type": "execute_result"
    }
   ],
   "source": [
    "# statistic functions\n",
    "frame.sum()  # get sum of every column\n",
    "frame.sum(axis='columns')  # get sum of every row\n",
    "\n",
    "frame.mean()  # get mean of every column"
   ]
  },
  {
   "cell_type": "code",
   "execution_count": 130,
   "metadata": {},
   "outputs": [
    {
     "data": {
      "text/plain": [
       "emp_id\n",
       "101    ~41000.0\n",
       "102    ~48000.0\n",
       "103    ~13000.0\n",
       "104    ~41000.0\n",
       "105    ~82000.0\n",
       "106    ~34000.0\n",
       "107    ~69000.0\n",
       "108    ~58000.0\n",
       "109     ~8000.0\n",
       "110    ~19000.0\n",
       "Name: salary, dtype: object"
      ]
     },
     "execution_count": 130,
     "metadata": {},
     "output_type": "execute_result"
    }
   ],
   "source": [
    "# apply() of Series\n",
    "func = lambda x: '~' + str(x)  # `func` takes a scalar\n",
    "s.apply(func)  # apply `func` element-wise"
   ]
  },
  {
   "cell_type": "code",
   "execution_count": 132,
   "metadata": {},
   "outputs": [
    {
     "name": "stdout",
     "output_type": "stream",
     "text": [
      "one      1.27\n",
      "two      0.85\n",
      "three    2.24\n",
      "dtype: float64\n",
      "\n",
      "Colorado      2.52\n",
      "Texas         0.99\n",
      "California    1.57\n",
      "dtype: float64\n"
     ]
    }
   ],
   "source": [
    "# apply() of DataFrame\n",
    "func = lambda arr1d: arr1d.max() - arr1d.min()  # `func` takes one 1D array\n",
    "\n",
    "columns_data = frame.apply(func)  # apply `func` on every column\n",
    "print(columns_data)\n",
    "print('')\n",
    "\n",
    "row_data = frame.apply(func, axis='columns')  # apply `func` on every row\n",
    "print(row_data)"
   ]
  },
  {
   "cell_type": "code",
   "execution_count": 133,
   "metadata": {},
   "outputs": [
    {
     "data": {
      "text/html": [
       "<div>\n",
       "<style>\n",
       "    .dataframe thead tr:only-child th {\n",
       "        text-align: right;\n",
       "    }\n",
       "\n",
       "    .dataframe thead th {\n",
       "        text-align: left;\n",
       "    }\n",
       "\n",
       "    .dataframe tbody tr th {\n",
       "        vertical-align: top;\n",
       "    }\n",
       "</style>\n",
       "<table border=\"1\" class=\"dataframe\">\n",
       "  <thead>\n",
       "    <tr style=\"text-align: right;\">\n",
       "      <th></th>\n",
       "      <th>one</th>\n",
       "      <th>two</th>\n",
       "      <th>three</th>\n",
       "    </tr>\n",
       "  </thead>\n",
       "  <tbody>\n",
       "    <tr>\n",
       "      <th>min</th>\n",
       "      <td>-0.06</td>\n",
       "      <td>-0.87</td>\n",
       "      <td>-1.31</td>\n",
       "    </tr>\n",
       "    <tr>\n",
       "      <th>max</th>\n",
       "      <td>1.21</td>\n",
       "      <td>-0.02</td>\n",
       "      <td>0.93</td>\n",
       "    </tr>\n",
       "  </tbody>\n",
       "</table>\n",
       "</div>"
      ],
      "text/plain": [
       "      one   two  three\n",
       "min -0.06 -0.87  -1.31\n",
       "max  1.21 -0.02   0.93"
      ]
     },
     "execution_count": 133,
     "metadata": {},
     "output_type": "execute_result"
    }
   ],
   "source": [
    "def func(arr1d):  # takes one 1D array; returns a Series\n",
    "    return pd.Series([arr1d.min(), arr1d.max()], index=['min', 'max'])\n",
    "frame.apply(func)"
   ]
  },
  {
   "cell_type": "code",
   "execution_count": 134,
   "metadata": {},
   "outputs": [
    {
     "data": {
      "text/html": [
       "<div>\n",
       "<style>\n",
       "    .dataframe thead tr:only-child th {\n",
       "        text-align: right;\n",
       "    }\n",
       "\n",
       "    .dataframe thead th {\n",
       "        text-align: left;\n",
       "    }\n",
       "\n",
       "    .dataframe tbody tr th {\n",
       "        vertical-align: top;\n",
       "    }\n",
       "</style>\n",
       "<table border=\"1\" class=\"dataframe\">\n",
       "  <thead>\n",
       "    <tr style=\"text-align: right;\">\n",
       "      <th></th>\n",
       "      <th>one</th>\n",
       "      <th>two</th>\n",
       "      <th>three</th>\n",
       "    </tr>\n",
       "  </thead>\n",
       "  <tbody>\n",
       "    <tr>\n",
       "      <th>Colorado</th>\n",
       "      <td>1.2</td>\n",
       "      <td>-0.9</td>\n",
       "      <td>-1.3</td>\n",
       "    </tr>\n",
       "    <tr>\n",
       "      <th>Texas</th>\n",
       "      <td>-0.1</td>\n",
       "      <td>-0.0</td>\n",
       "      <td>0.9</td>\n",
       "    </tr>\n",
       "    <tr>\n",
       "      <th>California</th>\n",
       "      <td>0.5</td>\n",
       "      <td>-0.9</td>\n",
       "      <td>0.7</td>\n",
       "    </tr>\n",
       "  </tbody>\n",
       "</table>\n",
       "</div>"
      ],
      "text/plain": [
       "             one   two three\n",
       "Colorado     1.2  -0.9  -1.3\n",
       "Texas       -0.1  -0.0   0.9\n",
       "California   0.5  -0.9   0.7"
      ]
     },
     "execution_count": 134,
     "metadata": {},
     "output_type": "execute_result"
    }
   ],
   "source": [
    "func = lambda x: '{:.1f}'.format(x)  \n",
    "\n",
    "frame.applymap(func)  # apply `func` on every entry\n",
    "#func(frame)  # won't work, or doesn't make sense"
   ]
  },
  {
   "cell_type": "code",
   "execution_count": 135,
   "metadata": {},
   "outputs": [
    {
     "name": "stdout",
     "output_type": "stream",
     "text": [
      "              English       Math    Physics\n",
      "student_id                                 \n",
      "0           96.580628   1.229872  69.408825\n",
      "1           41.475066  85.047163  44.003750\n",
      "2           58.444461  40.079175  66.439001\n",
      "3           52.362040  23.266839  76.134475\n",
      "4           11.504513  76.653167  17.506123\n",
      "5           81.033897  21.657941  47.413577\n",
      "6           97.829821  34.516018  86.618946\n",
      "7           64.660250  39.269891  90.054321\n",
      "8           98.789563  90.800932   5.818763\n",
      "9            0.005036   8.289476  77.460754\n"
     ]
    }
   ],
   "source": [
    "# [練習]\n",
    "import math\n",
    "table = pd.DataFrame({'Math': np.random.uniform(0,100,10),\n",
    "                      'English': np.random.uniform(0,100,10),\n",
    "                      'Physics': np.random.uniform(0,100,10)})\n",
    "table.index.name = 'student_id'\n",
    "print(table)\n",
    "\n",
    "# 1. 將成績 開根號乘以 10, 然後四捨五入取整數\n",
    "# 2. 建立一個表格，內容為每個科目 小於 60 分的人數 和 90 分以上的人數"
   ]
  },
  {
   "cell_type": "markdown",
   "metadata": {},
   "source": [
    "## Sorting and Ranking\n",
    "### sorting by index"
   ]
  },
  {
   "cell_type": "code",
   "execution_count": 105,
   "metadata": {},
   "outputs": [
    {
     "data": {
      "text/plain": [
       "a    2\n",
       "b    0\n",
       "c    3\n",
       "d    1\n",
       "dtype: int64"
      ]
     },
     "execution_count": 105,
     "metadata": {},
     "output_type": "execute_result"
    }
   ],
   "source": [
    "s = pd.Series(range(4), index=['b','d','a','c'])\n",
    "s.sort_index()  # sort by index (lexicographically)\n",
    "                # returns a new Series"
   ]
  },
  {
   "cell_type": "code",
   "execution_count": 116,
   "metadata": {},
   "outputs": [
    {
     "name": "stdout",
     "output_type": "stream",
     "text": [
      "       C  A  D  B\n",
      "three  0  1  2  3\n",
      "one    4  5  6  7\n",
      "\n",
      "       C  A  D  B\n",
      "one    4  5  6  7\n",
      "three  0  1  2  3\n",
      "\n",
      "       D  C  B  A\n",
      "three  2  0  3  1\n",
      "one    6  4  7  5\n"
     ]
    }
   ],
   "source": [
    "frame = pd.DataFrame(np.arange(8).reshape(2,4), index=['three','one'], columns=['C','A','D','B'])\n",
    "print(frame)\n",
    "print('')\n",
    "\n",
    "frame2 = frame.sort_index()  # sort by (row) index\n",
    "print(frame2)\n",
    "print('')\n",
    "\n",
    "frame2 = frame.sort_index(axis=1, ascending=False)  # sort by column labels, in descending order\n",
    "print(frame2)"
   ]
  },
  {
   "cell_type": "markdown",
   "metadata": {},
   "source": [
    "### sorting by values"
   ]
  },
  {
   "cell_type": "code",
   "execution_count": 121,
   "metadata": {},
   "outputs": [
    {
     "data": {
      "text/plain": [
       "2   -3.0\n",
       "0    1.0\n",
       "4    2.0\n",
       "1    9.0\n",
       "3    NaN\n",
       "dtype: float64"
      ]
     },
     "execution_count": 121,
     "metadata": {},
     "output_type": "execute_result"
    }
   ],
   "source": [
    "s = pd.Series([1, 9, -3, np.nan, 2])\n",
    "s.sort_values()  # missing values will be at the end"
   ]
  },
  {
   "cell_type": "code",
   "execution_count": 127,
   "metadata": {},
   "outputs": [
    {
     "name": "stdout",
     "output_type": "stream",
     "text": [
      "   a    b\n",
      "0  0  1.0\n",
      "1  1  9.0\n",
      "2  0 -3.0\n",
      "3  0  NaN\n",
      "4  1  2.0\n",
      "\n",
      "   a    b\n",
      "2  0 -3.0\n",
      "0  0  1.0\n",
      "4  1  2.0\n",
      "1  1  9.0\n",
      "3  0  NaN\n",
      "\n",
      "   a    b\n",
      "2  0 -3.0\n",
      "0  0  1.0\n",
      "3  0  NaN\n",
      "4  1  2.0\n",
      "1  1  9.0\n",
      "\n"
     ]
    }
   ],
   "source": [
    "frame = pd.DataFrame({'a':[0,1,0,0,1], 'b':[1,9,-3,np.nan,2]})\n",
    "print(frame)\n",
    "print('')\n",
    "\n",
    "frame2 = frame.sort_values(by='b')\n",
    "print(frame2)\n",
    "print('')\n",
    "\n",
    "frame2 = frame.sort_values(by=['a','b'])\n",
    "print(frame2)\n",
    "print('')"
   ]
  },
  {
   "cell_type": "markdown",
   "metadata": {},
   "source": [
    "### ranking"
   ]
  },
  {
   "cell_type": "code",
   "execution_count": 184,
   "metadata": {},
   "outputs": [
    {
     "name": "stdout",
     "output_type": "stream",
     "text": [
      "=== s ===\n",
      "a    3\n",
      "b    5\n",
      "c    4\n",
      "d    2\n",
      "dtype: int64\n",
      "\n",
      "=== s.rank(), descending ===\n",
      "a    3.0\n",
      "b    1.0\n",
      "c    2.0\n",
      "d    4.0\n",
      "dtype: float64\n"
     ]
    }
   ],
   "source": [
    "s = pd.Series([3,5,4,2], index=['a','b','c','d'])\n",
    "print('=== s ===')\n",
    "print(s)\n",
    "print('')\n",
    "\n",
    "ranks = s.rank()  # ascending order (gives rank 1.0 to smallest value)\n",
    "ranks = s.rank(ascending=False)  # descending order (gives rank 1.0 to largest value)\n",
    "# result:\n",
    "#  0  (rank of s[0])\n",
    "#  1  (rank of s[1])\n",
    "#  2  (rank of s[2])\n",
    "#  ...\n",
    "# The rank starts from 1.0 .\n",
    "\n",
    "print('=== s.rank(), descending ===')\n",
    "print(ranks)"
   ]
  },
  {
   "cell_type": "code",
   "execution_count": 185,
   "metadata": {},
   "outputs": [
    {
     "data": {
      "text/plain": [
       "a    1.0\n",
       "b    2.5\n",
       "c    2.5\n",
       "d    4.0\n",
       "dtype: float64"
      ]
     },
     "execution_count": 185,
     "metadata": {},
     "output_type": "execute_result"
    }
   ],
   "source": [
    "s = pd.Series([1,2,2,3], index=['a','b','c','d'])  # with tie/duplicate values\n",
    "s.rank()"
   ]
  },
  {
   "cell_type": "code",
   "execution_count": 186,
   "metadata": {},
   "outputs": [
    {
     "data": {
      "text/plain": [
       "a    1.0\n",
       "b    2.0\n",
       "c    3.0\n",
       "d    4.0\n",
       "dtype: float64"
      ]
     },
     "execution_count": 186,
     "metadata": {},
     "output_type": "execute_result"
    }
   ],
   "source": [
    "s.rank(method='first')"
   ]
  },
  {
   "cell_type": "code",
   "execution_count": 187,
   "metadata": {},
   "outputs": [
    {
     "data": {
      "text/plain": [
       "a    1.0\n",
       "b    3.0\n",
       "c    3.0\n",
       "d    4.0\n",
       "dtype: float64"
      ]
     },
     "execution_count": 187,
     "metadata": {},
     "output_type": "execute_result"
    }
   ],
   "source": [
    "s.rank(method='max')"
   ]
  },
  {
   "cell_type": "code",
   "execution_count": 188,
   "metadata": {},
   "outputs": [
    {
     "data": {
      "text/plain": [
       "a    1.0\n",
       "b    2.0\n",
       "c    2.0\n",
       "d    3.0\n",
       "dtype: float64"
      ]
     },
     "execution_count": 188,
     "metadata": {},
     "output_type": "execute_result"
    }
   ],
   "source": [
    "s.rank(method='dense')"
   ]
  },
  {
   "cell_type": "code",
   "execution_count": 191,
   "metadata": {},
   "outputs": [
    {
     "name": "stdout",
     "output_type": "stream",
     "text": [
      "=== frame ===\n",
      "   a  b    c\n",
      "0  0  1  0.5\n",
      "1  1  9  3.2\n",
      "2  0 -3 -1.1\n",
      "3  1  2  8.3\n",
      "\n",
      "=== frame.rank() ===\n",
      "     a    b    c\n",
      "0  1.0  2.0  2.0\n",
      "1  3.0  4.0  3.0\n",
      "2  2.0  1.0  1.0\n",
      "3  4.0  3.0  4.0\n",
      "\n",
      "=== frame.rank(axis='columns') ===\n",
      "     a    b    c\n",
      "0  1.0  3.0  2.0\n",
      "1  1.0  3.0  2.0\n",
      "2  3.0  1.0  2.0\n",
      "3  1.0  2.0  3.0\n"
     ]
    }
   ],
   "source": [
    "frame = pd.DataFrame({'a':[0,1,0,1], 'b':[1,9,-3,2], 'c':[0.5,3.2,-1.1,8.3]})\n",
    "print('=== frame ===')\n",
    "print(frame)\n",
    "print('')\n",
    "\n",
    "ranks = frame.rank(method='first')  # gives the rank of every entry among its column\n",
    "print('=== frame.rank() ===')\n",
    "print(ranks)\n",
    "print('')\n",
    "\n",
    "ranks = frame.rank(axis='columns', method='first')  # gives the rank of every entry among its row\n",
    "print('=== frame.rank(axis=\\'columns\\') ===')\n",
    "print(ranks)"
   ]
  },
  {
   "cell_type": "code",
   "execution_count": 251,
   "metadata": {},
   "outputs": [
    {
     "name": "stdout",
     "output_type": "stream",
     "text": [
      "               English        Math     Physics\n",
      "student_id                                    \n",
      "0            43.443660   80.444053   62.483010\n",
      "1             0.000000   79.792017   63.326233\n",
      "2            85.457401   60.760412   70.812782\n",
      "3             0.546902   99.614017   64.892723\n",
      "4            46.854878  100.000000   39.721650\n",
      "5            73.814788   77.375491   46.062813\n",
      "6            55.298586   46.726975   51.051553\n",
      "7            86.515266   89.843610   40.810520\n",
      "8           100.000000   79.470056   49.528202\n",
      "9            65.001213   93.684524  100.000000\n"
     ]
    }
   ],
   "source": [
    "# [練習]\n",
    "import math\n",
    "table = pd.DataFrame({'Math': np.random.normal(70,25,10),\n",
    "                      'English': np.random.normal(70,25,10),\n",
    "                      'Physics': np.random.normal(70,25,10)})\n",
    "table[table < 0] = 0\n",
    "table[table > 100] = 100\n",
    "table.index.name = 'student_id'\n",
    "print(table)\n",
    "\n",
    "# 1. 找出所有學生中，有任何科目成績排名前三名者\n",
    "# 2. 請建立一個表格，列出每科目成績前三名的學生 id (columns: 科目，rows: 名次)"
   ]
  },
  {
   "cell_type": "code",
   "execution_count": null,
   "metadata": {
    "collapsed": true
   },
   "outputs": [],
   "source": []
  },
  {
   "cell_type": "markdown",
   "metadata": {},
   "source": [
    "# Descriptive Statistics\n",
    "pandas objects are equipped with a set of common mathematical and statistical methods. Compared with the similar methods on NumPy arrays, they have built-in handling for missing data.\n",
    "## Descriptive and Summary Statistics"
   ]
  },
  {
   "cell_type": "code",
   "execution_count": 30,
   "metadata": {},
   "outputs": [
    {
     "data": {
      "text/plain": [
       "one    3\n",
       "two    2\n",
       "dtype: int64"
      ]
     },
     "execution_count": 30,
     "metadata": {},
     "output_type": "execute_result"
    }
   ],
   "source": [
    "frame = pd.DataFrame([[1.4, np.nan], [7.1, -4.5], [np.nan, np.nan], [0.75, -1.3]],\n",
    "                     index=['a','b','c','d'],\n",
    "                     columns=['one','two'])\n",
    "frame"
   ]
  },
  {
   "cell_type": "code",
   "execution_count": 21,
   "metadata": {},
   "outputs": [
    {
     "data": {
      "text/plain": [
       "one    9.25\n",
       "two   -5.80\n",
       "dtype: float64"
      ]
     },
     "execution_count": 21,
     "metadata": {},
     "output_type": "execute_result"
    }
   ],
   "source": [
    "frame.sum()  # computes sums within each column"
   ]
  },
  {
   "cell_type": "code",
   "execution_count": 23,
   "metadata": {},
   "outputs": [
    {
     "data": {
      "text/plain": [
       "one   NaN\n",
       "two   NaN\n",
       "dtype: float64"
      ]
     },
     "execution_count": 23,
     "metadata": {},
     "output_type": "execute_result"
    }
   ],
   "source": [
    "frame.sum(skipna=False)  # does not skip missing values"
   ]
  },
  {
   "cell_type": "code",
   "execution_count": 22,
   "metadata": {},
   "outputs": [
    {
     "data": {
      "text/plain": [
       "a    1.40\n",
       "b    2.60\n",
       "c    0.00\n",
       "d   -0.55\n",
       "dtype: float64"
      ]
     },
     "execution_count": 22,
     "metadata": {},
     "output_type": "execute_result"
    }
   ],
   "source": [
    "frame.sum(axis='columns')  # computes sums within each row"
   ]
  },
  {
   "cell_type": "code",
   "execution_count": 32,
   "metadata": {},
   "outputs": [
    {
     "data": {
      "text/plain": [
       "one    3\n",
       "two    2\n",
       "dtype: int64"
      ]
     },
     "execution_count": 32,
     "metadata": {},
     "output_type": "execute_result"
    }
   ],
   "source": [
    "frame.count()  # count of non-NA values"
   ]
  },
  {
   "cell_type": "code",
   "execution_count": 24,
   "metadata": {},
   "outputs": [
    {
     "data": {
      "text/plain": [
       "one    b\n",
       "two    d\n",
       "dtype: object"
      ]
     },
     "execution_count": 24,
     "metadata": {},
     "output_type": "execute_result"
    }
   ],
   "source": [
    "frame.idxmax()  # indexes of maximum, for each column"
   ]
  },
  {
   "cell_type": "code",
   "execution_count": 26,
   "metadata": {},
   "outputs": [
    {
     "data": {
      "text/html": [
       "<div>\n",
       "<style scoped>\n",
       "    .dataframe tbody tr th:only-of-type {\n",
       "        vertical-align: middle;\n",
       "    }\n",
       "\n",
       "    .dataframe tbody tr th {\n",
       "        vertical-align: top;\n",
       "    }\n",
       "\n",
       "    .dataframe thead th {\n",
       "        text-align: right;\n",
       "    }\n",
       "</style>\n",
       "<table border=\"1\" class=\"dataframe\">\n",
       "  <thead>\n",
       "    <tr style=\"text-align: right;\">\n",
       "      <th></th>\n",
       "      <th>one</th>\n",
       "      <th>two</th>\n",
       "    </tr>\n",
       "  </thead>\n",
       "  <tbody>\n",
       "    <tr>\n",
       "      <th>a</th>\n",
       "      <td>1.40</td>\n",
       "      <td>NaN</td>\n",
       "    </tr>\n",
       "    <tr>\n",
       "      <th>b</th>\n",
       "      <td>8.50</td>\n",
       "      <td>-4.5</td>\n",
       "    </tr>\n",
       "    <tr>\n",
       "      <th>c</th>\n",
       "      <td>NaN</td>\n",
       "      <td>NaN</td>\n",
       "    </tr>\n",
       "    <tr>\n",
       "      <th>d</th>\n",
       "      <td>9.25</td>\n",
       "      <td>-5.8</td>\n",
       "    </tr>\n",
       "  </tbody>\n",
       "</table>\n",
       "</div>"
      ],
      "text/plain": [
       "    one  two\n",
       "a  1.40  NaN\n",
       "b  8.50 -4.5\n",
       "c   NaN  NaN\n",
       "d  9.25 -5.8"
      ]
     },
     "execution_count": 26,
     "metadata": {},
     "output_type": "execute_result"
    }
   ],
   "source": [
    "frame.cumsum()  # accumulation"
   ]
  },
  {
   "cell_type": "code",
   "execution_count": 27,
   "metadata": {},
   "outputs": [
    {
     "data": {
      "text/html": [
       "<div>\n",
       "<style scoped>\n",
       "    .dataframe tbody tr th:only-of-type {\n",
       "        vertical-align: middle;\n",
       "    }\n",
       "\n",
       "    .dataframe tbody tr th {\n",
       "        vertical-align: top;\n",
       "    }\n",
       "\n",
       "    .dataframe thead th {\n",
       "        text-align: right;\n",
       "    }\n",
       "</style>\n",
       "<table border=\"1\" class=\"dataframe\">\n",
       "  <thead>\n",
       "    <tr style=\"text-align: right;\">\n",
       "      <th></th>\n",
       "      <th>one</th>\n",
       "      <th>two</th>\n",
       "    </tr>\n",
       "  </thead>\n",
       "  <tbody>\n",
       "    <tr>\n",
       "      <th>count</th>\n",
       "      <td>3.000000</td>\n",
       "      <td>2.000000</td>\n",
       "    </tr>\n",
       "    <tr>\n",
       "      <th>mean</th>\n",
       "      <td>3.083333</td>\n",
       "      <td>-2.900000</td>\n",
       "    </tr>\n",
       "    <tr>\n",
       "      <th>std</th>\n",
       "      <td>3.493685</td>\n",
       "      <td>2.262742</td>\n",
       "    </tr>\n",
       "    <tr>\n",
       "      <th>min</th>\n",
       "      <td>0.750000</td>\n",
       "      <td>-4.500000</td>\n",
       "    </tr>\n",
       "    <tr>\n",
       "      <th>25%</th>\n",
       "      <td>1.075000</td>\n",
       "      <td>-3.700000</td>\n",
       "    </tr>\n",
       "    <tr>\n",
       "      <th>50%</th>\n",
       "      <td>1.400000</td>\n",
       "      <td>-2.900000</td>\n",
       "    </tr>\n",
       "    <tr>\n",
       "      <th>75%</th>\n",
       "      <td>4.250000</td>\n",
       "      <td>-2.100000</td>\n",
       "    </tr>\n",
       "    <tr>\n",
       "      <th>max</th>\n",
       "      <td>7.100000</td>\n",
       "      <td>-1.300000</td>\n",
       "    </tr>\n",
       "  </tbody>\n",
       "</table>\n",
       "</div>"
      ],
      "text/plain": [
       "            one       two\n",
       "count  3.000000  2.000000\n",
       "mean   3.083333 -2.900000\n",
       "std    3.493685  2.262742\n",
       "min    0.750000 -4.500000\n",
       "25%    1.075000 -3.700000\n",
       "50%    1.400000 -2.900000\n",
       "75%    4.250000 -2.100000\n",
       "max    7.100000 -1.300000"
      ]
     },
     "execution_count": 27,
     "metadata": {},
     "output_type": "execute_result"
    }
   ],
   "source": [
    "# describe()\n",
    "frame.describe()"
   ]
  },
  {
   "cell_type": "code",
   "execution_count": 29,
   "metadata": {},
   "outputs": [
    {
     "data": {
      "text/plain": [
       "count     12\n",
       "unique     3\n",
       "top        a\n",
       "freq       6\n",
       "dtype: object"
      ]
     },
     "execution_count": 29,
     "metadata": {},
     "output_type": "execute_result"
    }
   ],
   "source": [
    "# describe() on non-numeric data\n",
    "s = pd.Series(['a','a','b','c']*3)\n",
    "s.describe()"
   ]
  },
  {
   "cell_type": "markdown",
   "metadata": {},
   "source": [
    "### list of functions\n",
    "* `describe`\n",
    "* `count`\n",
    "* `min, max`\n",
    "* `argmin, argmax, idxmin, idxmax`\n",
    "* `median, quantile`\n",
    "* `sum, mean`\n",
    "* `prod` (product)\n",
    "* `var, std`\n",
    "* `skew, kurt`\n",
    "* `cumsum` (cumulative sum), `cummin, cummax, cumprod`\n",
    "* `diff` (difference from previous element), `pct_change` (percent changes)"
   ]
  },
  {
   "cell_type": "markdown",
   "metadata": {},
   "source": [
    "## Correlation and Covariance"
   ]
  },
  {
   "cell_type": "code",
   "execution_count": null,
   "metadata": {
    "collapsed": true
   },
   "outputs": [],
   "source": [
    "s1 = pd.Series([0,3,4,7,10])\n",
    "s2 = pd.Series([-3,2,4,5,7])\n",
    "\n",
    "s1.corr(s2)  # 0.9418029136320045  # correlation between `s1` and `s2`\n",
    "s1.cov(s2)  # 13.75  # covariance between `s1` and `s2`"
   ]
  },
  {
   "cell_type": "code",
   "execution_count": 50,
   "metadata": {},
   "outputs": [
    {
     "name": "stdout",
     "output_type": "stream",
     "text": [
      "    A  B  C\n",
      "0   0 -3 -3\n",
      "1   3  2 -2\n",
      "2   4  4 -5\n",
      "3   7  5 -7\n",
      "4  10  7 -9\n"
     ]
    },
    {
     "data": {
      "text/html": [
       "<div>\n",
       "<style scoped>\n",
       "    .dataframe tbody tr th:only-of-type {\n",
       "        vertical-align: middle;\n",
       "    }\n",
       "\n",
       "    .dataframe tbody tr th {\n",
       "        vertical-align: top;\n",
       "    }\n",
       "\n",
       "    .dataframe thead th {\n",
       "        text-align: right;\n",
       "    }\n",
       "</style>\n",
       "<table border=\"1\" class=\"dataframe\">\n",
       "  <thead>\n",
       "    <tr style=\"text-align: right;\">\n",
       "      <th></th>\n",
       "      <th>A</th>\n",
       "      <th>B</th>\n",
       "      <th>C</th>\n",
       "    </tr>\n",
       "  </thead>\n",
       "  <tbody>\n",
       "    <tr>\n",
       "      <th>A</th>\n",
       "      <td>1.000000</td>\n",
       "      <td>0.941803</td>\n",
       "      <td>-0.915378</td>\n",
       "    </tr>\n",
       "    <tr>\n",
       "      <th>B</th>\n",
       "      <td>0.941803</td>\n",
       "      <td>1.000000</td>\n",
       "      <td>-0.802448</td>\n",
       "    </tr>\n",
       "    <tr>\n",
       "      <th>C</th>\n",
       "      <td>-0.915378</td>\n",
       "      <td>-0.802448</td>\n",
       "      <td>1.000000</td>\n",
       "    </tr>\n",
       "  </tbody>\n",
       "</table>\n",
       "</div>"
      ],
      "text/plain": [
       "          A         B         C\n",
       "A  1.000000  0.941803 -0.915378\n",
       "B  0.941803  1.000000 -0.802448\n",
       "C -0.915378 -0.802448  1.000000"
      ]
     },
     "execution_count": 50,
     "metadata": {},
     "output_type": "execute_result"
    }
   ],
   "source": [
    "s3 = pd.Series([-3,-2,-5,-7,-9])\n",
    "frame = pd.DataFrame({'A': s1, 'B': s2, 'C': s3})\n",
    "print(frame)\n",
    "\n",
    "frame.cov()  # covariance matrix between the columns\n",
    "frame.corr()  # correlation matrix between the columns "
   ]
  },
  {
   "cell_type": "markdown",
   "metadata": {},
   "source": [
    "## Unique Values, Value Counts, and Membership"
   ]
  },
  {
   "cell_type": "code",
   "execution_count": 76,
   "metadata": {},
   "outputs": [
    {
     "data": {
      "text/plain": [
       "array(['c', 'd', 'a', 'b'], dtype=object)"
      ]
     },
     "execution_count": 76,
     "metadata": {},
     "output_type": "execute_result"
    }
   ],
   "source": [
    "s = pd.Series(['c','d','a','a','b','b','c','c'])\n",
    "\n",
    "#\n",
    "unique_values_arr = s.unique()  # ['c', 'd', 'a', 'b']   # unique values\n",
    "pd.unique(s)  # same\n",
    "\n",
    "#\n",
    "s.value_counts()  # c   3   # histogram / frequency table\n",
    "                  # b   2\n",
    "                  # a   2\n",
    "                  # d   1\n",
    "pd.value_counts(s)  # same\n",
    " \n",
    "#\n",
    "mask = s.isin(['b','c'])\n",
    "s[mask]  # 0   c\n",
    "         # 4   b\n",
    "         # 5   b\n",
    "         # 6   c\n",
    "         # 7   c\n",
    "        \n",
    "#\n",
    "ind = pd.Index(['a','b'])\n",
    "a = ind.get_indexer(s)  # [-1, -1,  0,  0,  1,  1, -1, -1]  # `ind` must have unique labels\n",
    "  # a[i] is such that s[0] = ind[a[i]]\n",
    "  # a[j] = -1 means s[j] is not in `ind`"
   ]
  },
  {
   "cell_type": "code",
   "execution_count": 79,
   "metadata": {},
   "outputs": [
    {
     "data": {
      "text/html": [
       "<div>\n",
       "<style scoped>\n",
       "    .dataframe tbody tr th:only-of-type {\n",
       "        vertical-align: middle;\n",
       "    }\n",
       "\n",
       "    .dataframe tbody tr th {\n",
       "        vertical-align: top;\n",
       "    }\n",
       "\n",
       "    .dataframe thead th {\n",
       "        text-align: right;\n",
       "    }\n",
       "</style>\n",
       "<table border=\"1\" class=\"dataframe\">\n",
       "  <thead>\n",
       "    <tr style=\"text-align: right;\">\n",
       "      <th></th>\n",
       "      <th>A</th>\n",
       "      <th>B</th>\n",
       "      <th>C</th>\n",
       "    </tr>\n",
       "  </thead>\n",
       "  <tbody>\n",
       "    <tr>\n",
       "      <th>1</th>\n",
       "      <td>1.0</td>\n",
       "      <td>1.0</td>\n",
       "      <td>1.0</td>\n",
       "    </tr>\n",
       "    <tr>\n",
       "      <th>2</th>\n",
       "      <td>0.0</td>\n",
       "      <td>1.0</td>\n",
       "      <td>1.0</td>\n",
       "    </tr>\n",
       "    <tr>\n",
       "      <th>3</th>\n",
       "      <td>2.0</td>\n",
       "      <td>3.0</td>\n",
       "      <td>0.0</td>\n",
       "    </tr>\n",
       "    <tr>\n",
       "      <th>4</th>\n",
       "      <td>2.0</td>\n",
       "      <td>0.0</td>\n",
       "      <td>2.0</td>\n",
       "    </tr>\n",
       "    <tr>\n",
       "      <th>5</th>\n",
       "      <td>0.0</td>\n",
       "      <td>0.0</td>\n",
       "      <td>1.0</td>\n",
       "    </tr>\n",
       "  </tbody>\n",
       "</table>\n",
       "</div>"
      ],
      "text/plain": [
       "     A    B    C\n",
       "1  1.0  1.0  1.0\n",
       "2  0.0  1.0  1.0\n",
       "3  2.0  3.0  0.0\n",
       "4  2.0  0.0  2.0\n",
       "5  0.0  0.0  1.0"
      ]
     },
     "execution_count": 79,
     "metadata": {},
     "output_type": "execute_result"
    }
   ],
   "source": [
    "# Example: histograms of columns of DataFrame\n",
    "frame = pd.DataFrame({'A':[1,3,4,3,4], 'B':[2,3,1,3,3], 'C':[1,5,2,4,4]})\n",
    "\n",
    "frame.apply(pd.value_counts)\n",
    "frame.apply(pd.value_counts).fillna(0)"
   ]
  }
 ],
 "metadata": {
  "kernelspec": {
   "display_name": "Python 3",
   "language": "python",
   "name": "python3"
  },
  "language_info": {
   "codemirror_mode": {
    "name": "ipython",
    "version": 3
   },
   "file_extension": ".py",
   "mimetype": "text/x-python",
   "name": "python",
   "nbconvert_exporter": "python",
   "pygments_lexer": "ipython3",
   "version": "3.6.2"
  },
  "toc": {
   "base_numbering": 1,
   "nav_menu": {
    "height": "505px",
    "width": "464px"
   },
   "number_sections": true,
   "sideBar": true,
   "skip_h1_title": false,
   "title_cell": "pandas Start Guide",
   "title_sidebar": "Contents",
   "toc_cell": true,
   "toc_position": {},
   "toc_section_display": true,
   "toc_window_display": true
  }
 },
 "nbformat": 4,
 "nbformat_minor": 2
}
